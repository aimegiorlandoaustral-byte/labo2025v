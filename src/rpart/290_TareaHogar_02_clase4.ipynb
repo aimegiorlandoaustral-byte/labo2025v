{
  "nbformat": 4,
  "nbformat_minor": 0,
  "metadata": {
    "colab": {
      "provenance": []
    },
    "kernelspec": {
      "name": "ir",
      "display_name": "R"
    },
    "language_info": {
      "name": "R"
    }
  },
  "cells": [
    {
      "cell_type": "markdown",
      "source": [
        "# Tarea para el Hogar 02"
      ],
      "metadata": {
        "id": "F3r8aa3pBigj"
      }
    },
    {
      "cell_type": "markdown",
      "source": [
        "Esta Tarea para el Hogar 02 se entrega el final de la segunda clase\n",
        "<br> se espera de usted que intente avanzar con los desafios propuestos y que los traiga terminados para la Clase 03, ya que se analizarán los resultados"
      ],
      "metadata": {
        "id": "nBm4ktHUBmZt"
      }
    },
    {
      "cell_type": "markdown",
      "source": [
        "##  1. Ensembles de Modelos"
      ],
      "metadata": {
        "id": "TK-M04ElCESC"
      }
    },
    {
      "cell_type": "markdown",
      "source": [
        "Vea el siguiente video [BBC - The Code - The Wisdom of the Crowd](https://www.youtube.com/watch?v=iOucwX7Z1HU)    ( 5 min)\n"
      ],
      "metadata": {
        "id": "biPYxgobCOSS"
      }
    },
    {
      "cell_type": "markdown",
      "source": [
        "Lea los siguientes artículos\n",
        "\n",
        "\n",
        "*   [The Wisdom of Crowds (Vox Populi) by Francis Galton](https://www.all-about-psychology.com/the-wisdom-of-crowds.html)  (10 min)\n",
        "*   [A Gentle Introduction to Ensemble Learning](https://machinelearningmastery.com/what-is-ensemble-learning/)  (10 min)\n",
        "\n"
      ],
      "metadata": {
        "id": "FBszBRyNCcjp"
      }
    },
    {
      "cell_type": "markdown",
      "source": [
        "\n",
        "\n",
        "---\n",
        "\n"
      ],
      "metadata": {
        "id": "x7SebtV2lpHQ"
      }
    },
    {
      "cell_type": "markdown",
      "source": [
        "##  2.  Zero2Hero   primera parte\n",
        "Se han lanzado los primeros fascículos coleccionables llamados \"from Zero to Hero\" que muy detalladamente, paso a paso enseñan todo lo necesario de R para entender los scripts oficiales de la asignatura.\n",
        "Están en el repositorio oficial de la asignatura, carpeta  **src/zero2hero**"
      ],
      "metadata": {
        "id": "NQcY8u2MDSLT"
      }
    },
    {
      "cell_type": "markdown",
      "source": [
        "\n",
        "\n",
        "---\n",
        "\n"
      ],
      "metadata": {
        "id": "GcO0OSiIEAGy"
      }
    },
    {
      "cell_type": "markdown",
      "source": [
        "## 3.  Grid Search"
      ],
      "metadata": {
        "id": "6MStcyn0EBdT"
      }
    },
    {
      "cell_type": "markdown",
      "source": [
        "Busque en internet el precido significado de los hiperparámetros de la librería **rpart**  que está implementando el algoritmo **CART**  Classification and Regression Trees  propuesto en el año 1984 por Leo Brieman:\n",
        "\n",
        "*   cp\n",
        "*   maxdepth\n",
        "*   minsplit\n",
        "*   minbucket\n",
        "\n",
        "Entienda que valores es razonable tome cada hiperparámetro,  en particular profundice en el hiperparámetro  **cp**  y la posibilidad que tome valores negativos.  Es válido consultar a su amigo de *capacidades especiales*  ChatGPT\n"
      ],
      "metadata": {
        "id": "gM8RKXDgEIY0"
      }
    },
    {
      "cell_type": "markdown",
      "source": [
        "En las siguientes celdas a un notebook incompleto, un esqueleto de codigo brindado a modo de facilitarle la tarea de codeo y permitir que su valiosa cognición se concentre temas conceptuales de Ciencia de Datos\n",
        "\n",
        "Modifiquelo agregando loops para que recorra TODOS los hiperparámetros de rpart  < cp, maxdepth, minsplit, minbucket >, y luego póngalo a correr. Recuerde cambiar por SU semilla\n",
        "Tenga muy presente la granularidad que eligirá para cada hiperparámetro."
      ],
      "metadata": {
        "id": "_k7eT3HIFy9y"
      }
    },
    {
      "cell_type": "markdown",
      "source": [
        "### Seteo del ambiente en Google Colab"
      ],
      "metadata": {
        "id": "kmLygy1TYPfg"
      }
    },
    {
      "cell_type": "markdown",
      "source": [
        "Esta parte se debe correr con el runtime en Python3\n",
        "<br>Ir al menu, Runtime -> Change Runtime Tipe -> Runtime type ->  **Python 3**"
      ],
      "metadata": {
        "id": "OikOm5K2YU3X"
      }
    },
    {
      "cell_type": "markdown",
      "source": [
        "Conectar la virtual machine donde esta corriendo Google Colab con el  Google Drive, para poder tener persistencia de archivos"
      ],
      "metadata": {
        "id": "4fmV5LyZdFyI"
      }
    },
    {
      "cell_type": "code",
      "source": [
        "# primero establecer el Runtime de Python 3\n",
        "from google.colab import drive\n",
        "drive.mount('/content/.drive')"
      ],
      "metadata": {
        "id": "ilEZ-bE2VybW",
        "colab": {
          "base_uri": "https://localhost:8080/"
        },
        "outputId": "dcbcdcca-ec99-4997-f6c0-5b4fab711777"
      },
      "execution_count": null,
      "outputs": [
        {
          "output_type": "stream",
          "name": "stdout",
          "text": [
            "Mounted at /content/.drive\n"
          ]
        }
      ]
    },
    {
      "cell_type": "markdown",
      "source": [
        "Para correr la siguiente celda es fundamental en Arranque en Frio haber copiado el archivo kaggle.json al Google Drive, en la carpeta indicada en el instructivo\n",
        "\n",
        "<br>los siguientes comando estan en shell script de Linux\n",
        "*   Crear las carpetas en el Google Drive\n",
        "*   \"instalar\" el archivo kaggle.json desde el Google Drive a la virtual machine para que pueda ser utilizado por la libreria  kaggle de Python\n",
        "*   Bajar el  **dataset_pequeno**  al  Google Drive  y tambien al disco local de la virtual machine que esta corriendo Google Colab\n",
        "\n"
      ],
      "metadata": {
        "id": "ilaKtqWldeWg"
      }
    },
    {
      "cell_type": "code",
      "source": [
        "%%shell\n",
        "\n",
        "mkdir -p \"/content/.drive/My Drive/labo1\"\n",
        "mkdir -p \"/content/buckets\"\n",
        "ln -s \"/content/.drive/My Drive/labo1\" /content/buckets/b1\n",
        "\n",
        "mkdir -p ~/.kaggle\n",
        "cp /content/buckets/b1/kaggle/kaggle.json  ~/.kaggle\n",
        "chmod 600 ~/.kaggle/kaggle.json\n",
        "\n",
        "\n",
        "mkdir -p /content/buckets/b1/exp\n",
        "mkdir -p /content/buckets/b1/datasets\n",
        "mkdir -p /content/datasets\n",
        "\n",
        "\n",
        "\n",
        "archivo_origen=\"https://storage.googleapis.com/open-courses/austral2025-af91/dataset_pequeno.csv\"\n",
        "archivo_destino=\"/content/datasets/dataset_pequeno.csv\"\n",
        "archivo_destino_bucket=\"/content/buckets/b1/datasets/dataset_pequeno.csv\"\n",
        "\n",
        "if ! test -f $archivo_destino_bucket; then\n",
        "  wget  $archivo_origen  -O $archivo_destino_bucket\n",
        "fi\n",
        "\n",
        "\n",
        "if ! test -f $archivo_destino; then\n",
        "  cp  $archivo_destino_bucket  $archivo_destino\n",
        "fi\n",
        "\n"
      ],
      "metadata": {
        "id": "W8dQFI5QYCFa",
        "outputId": "c1089f1a-8f7a-4c8e-fc89-080adde31a9b",
        "colab": {
          "base_uri": "https://localhost:8080/"
        }
      },
      "execution_count": null,
      "outputs": [
        {
          "output_type": "stream",
          "name": "stdout",
          "text": [
            "cp: cannot stat '/content/buckets/b1/kaggle/kaggle.json': No such file or directory\n",
            "chmod: cannot access '/root/.kaggle/kaggle.json': No such file or directory\n"
          ]
        },
        {
          "output_type": "execute_result",
          "data": {
            "text/plain": []
          },
          "metadata": {},
          "execution_count": 2
        }
      ]
    },
    {
      "cell_type": "markdown",
      "source": [
        "limpio el ambiente de R"
      ],
      "metadata": {
        "id": "SE94XRhWsxkX"
      }
    },
    {
      "cell_type": "code",
      "source": [
        "# limpio la memoria\n",
        "rm(list=ls(all.names=TRUE)) # remove all objects\n",
        "gc(full=TRUE, verbose=FALSE) # garbage collection"
      ],
      "metadata": {
        "id": "oZG_4br6szlT",
        "colab": {
          "base_uri": "https://localhost:8080/",
          "height": 129
        },
        "outputId": "2327490b-9136-4e6b-fe94-89992db8024e"
      },
      "execution_count": null,
      "outputs": [
        {
          "output_type": "display_data",
          "data": {
            "text/html": [
              "<table class=\"dataframe\">\n",
              "<caption>A matrix: 2 × 6 of type dbl</caption>\n",
              "<thead>\n",
              "\t<tr><th></th><th scope=col>used</th><th scope=col>(Mb)</th><th scope=col>gc trigger</th><th scope=col>(Mb)</th><th scope=col>max used</th><th scope=col>(Mb)</th></tr>\n",
              "</thead>\n",
              "<tbody>\n",
              "\t<tr><th scope=row>Ncells</th><td> 809610</td><td>43.3</td><td> 1454474</td><td> 77.7</td><td>  1454474</td><td> 77.7</td></tr>\n",
              "\t<tr><th scope=row>Vcells</th><td>1521251</td><td>11.7</td><td>90517661</td><td>690.6</td><td>122596839</td><td>935.4</td></tr>\n",
              "</tbody>\n",
              "</table>\n"
            ],
            "text/markdown": "\nA matrix: 2 × 6 of type dbl\n\n| <!--/--> | used | (Mb) | gc trigger | (Mb) | max used | (Mb) |\n|---|---|---|---|---|---|---|\n| Ncells |  809610 | 43.3 |  1454474 |  77.7 |   1454474 |  77.7 |\n| Vcells | 1521251 | 11.7 | 90517661 | 690.6 | 122596839 | 935.4 |\n\n",
            "text/latex": "A matrix: 2 × 6 of type dbl\n\\begin{tabular}{r|llllll}\n  & used & (Mb) & gc trigger & (Mb) & max used & (Mb)\\\\\n\\hline\n\tNcells &  809610 & 43.3 &  1454474 &  77.7 &   1454474 &  77.7\\\\\n\tVcells & 1521251 & 11.7 & 90517661 & 690.6 & 122596839 & 935.4\\\\\n\\end{tabular}\n",
            "text/plain": [
              "       used    (Mb) gc trigger (Mb)  max used  (Mb) \n",
              "Ncells  809610 43.3  1454474    77.7   1454474  77.7\n",
              "Vcells 1521251 11.7 90517661   690.6 122596839 935.4"
            ]
          },
          "metadata": {}
        }
      ]
    },
    {
      "cell_type": "code",
      "source": [
        "# cargo las librerias que necesito\n",
        "require(\"data.table\")\n",
        "require(\"rpart\")\n",
        "require(\"parallel\")\n",
        "if (!require(\"primes\")) install.packages(\"primes\")\n",
        "require(\"primes\")"
      ],
      "metadata": {
        "id": "JO-12d7YHkWy"
      },
      "execution_count": null,
      "outputs": []
    },
    {
      "cell_type": "markdown",
      "source": [
        "Aqui debe poner SU semiila primigenia"
      ],
      "metadata": {
        "id": "0MclPEJ6Q8Bp"
      }
    },
    {
      "cell_type": "code",
      "source": [
        "PARAM <- list()\n",
        "# reemplazar por su primer semilla\n",
        "PARAM$semilla_primigenia <- 105727\n",
        "PARAM$qsemillas <- 1\n",
        "\n",
        "PARAM$training_pct <- 70L  # entre  1L y 99L\n",
        "\n",
        "# elegir SU dataset comentando/ descomentando\n",
        "PARAM$dataset_nom <- \"~/datasets/dataset_pequeno.csv\""
      ],
      "metadata": {
        "id": "Vt5fC6bWHu5r"
      },
      "execution_count": null,
      "outputs": []
    },
    {
      "cell_type": "code",
      "source": [
        "# particionar agrega una columna llamada fold a un dataset\n",
        "#  que consiste en una particion estratificada segun agrupa\n",
        "# particionar( data=dataset, division=c(70,30), agrupa=clase_ternaria, seed=semilla)\n",
        "#   crea una particion 70, 30\n",
        "\n",
        "particionar <- function(data, division, agrupa = \"\", campo = \"fold\", start = 1, seed = NA) {\n",
        "  if (!is.na(seed)) set.seed(seed)\n",
        "\n",
        "  bloque <- unlist(mapply(function(x, y) {\n",
        "    rep(y, x)\n",
        "  }, division, seq(from = start, length.out = length(division))))\n",
        "\n",
        "  data[, (campo) := sample(rep(bloque, ceiling(.N / length(bloque))))[1:.N],\n",
        "    by = agrupa\n",
        "  ]\n",
        "}\n"
      ],
      "metadata": {
        "id": "Z1dchsrWH4MD"
      },
      "execution_count": null,
      "outputs": []
    },
    {
      "cell_type": "code",
      "source": [
        "ArbolEstimarGanancia <- function(semilla, training_pct, param_basicos) {\n",
        "  # particiono estratificadamente el dataset\n",
        "  particionar(dataset,\n",
        "    division = c(training_pct, 100L -training_pct),\n",
        "    agrupa = \"clase_ternaria\",\n",
        "    seed = semilla # aqui se usa SU semilla\n",
        "  )\n",
        "\n",
        "  # genero el modelo\n",
        "  # predecir clase_ternaria a partir del resto\n",
        "  modelo <- rpart(\"clase_ternaria ~ .\",\n",
        "    data = dataset[fold == 1], # fold==1  es training,  el 70% de los datos\n",
        "    xval = 0,\n",
        "    control = param_basicos\n",
        "  ) # aqui van los parametros del arbol\n",
        "\n",
        "  # aplico el modelo a los datos de testing\n",
        "  prediccion <- predict(modelo, # el modelo que genere recien\n",
        "    dataset[fold == 2], # fold==2  es testing, el 30% de los datos\n",
        "    type = \"prob\"\n",
        "  ) # type= \"prob\"  es que devuelva la probabilidad\n",
        "\n",
        "  # prediccion es una matriz con TRES columnas,\n",
        "  #  llamadas \"BAJA+1\", \"BAJA+2\"  y \"CONTINUA\"\n",
        "  # cada columna es el vector de probabilidades\n",
        "\n",
        "\n",
        "  # calculo la ganancia en testing  qu es fold==2\n",
        "  ganancia_test <- dataset[\n",
        "    fold == 2,\n",
        "    sum(ifelse(prediccion[, \"BAJA+2\"] > 0.025,\n",
        "      ifelse(clase_ternaria == \"BAJA+2\", 117000, -3000),\n",
        "      0\n",
        "    ))\n",
        "  ]\n",
        "\n",
        "  # escalo la ganancia como si fuera todo el dataset\n",
        "  ganancia_test_normalizada <- ganancia_test / (( 100 - PARAM$training_pct ) / 100 )\n",
        "\n",
        "  return(\n",
        "    c( list(\"semilla\" = semilla),\n",
        "      param_basicos,\n",
        "      list( \"ganancia_test\" = ganancia_test_normalizada )\n",
        "     )\n",
        "  )\n",
        "}\n"
      ],
      "metadata": {
        "id": "xsHwS1CzIA70"
      },
      "execution_count": null,
      "outputs": []
    },
    {
      "cell_type": "code",
      "source": [
        "ArbolesMontecarlo <- function(semillas, param_basicos) {\n",
        "\n",
        "  # la funcion mcmapply  llama a la funcion ArbolEstimarGanancia\n",
        "  #  tantas veces como valores tenga el vector  PARAM$semillas\n",
        "  salida <- mcmapply(ArbolEstimarGanancia,\n",
        "    semillas, # paso el vector de semillas\n",
        "    MoreArgs = list(PARAM$training_pct, param_basicos), # aqui paso el segundo parametro\n",
        "    SIMPLIFY = FALSE,\n",
        "    mc.cores = detectCores()\n",
        "  )\n",
        "\n",
        "  return(salida)\n",
        "}\n"
      ],
      "metadata": {
        "id": "BvBVOuhqIEjD"
      },
      "execution_count": null,
      "outputs": []
    },
    {
      "cell_type": "code",
      "source": [
        "# carpeta de trabajo\n",
        "# por fabor cambiar numero de experimento si se cambia el loop principal\n",
        "setwd(\"/content/buckets/b1/exp\")\n",
        "experimento <- \"HT2906\"\n",
        "dir.create(experimento, showWarnings=FALSE)\n",
        "setwd( paste0(\"/content/buckets/b1/exp/\", experimento ))"
      ],
      "metadata": {
        "id": "L-DOGHOjIG7G"
      },
      "execution_count": null,
      "outputs": []
    },
    {
      "cell_type": "code",
      "source": [
        "# lectura del dataset\n",
        "dataset <- fread(\"/content/datasets/dataset_pequeno.csv\")\n",
        "\n",
        "# trabajo solo con los datos con clase, es decir 202107\n",
        "dataset <- dataset[clase_ternaria != \"\"]"
      ],
      "metadata": {
        "id": "NM-mrLWcIPo6"
      },
      "execution_count": null,
      "outputs": []
    },
    {
      "cell_type": "code",
      "source": [
        "\n",
        "# genero numeros primos\n",
        "primos <- generate_primes(min = 100000, max = 1000000)\n",
        "set.seed(PARAM$semilla_primigenia) # inicializo\n",
        "# me quedo con PARAM$qsemillas   semillas\n",
        "PARAM$semillas <- sample(primos, PARAM$qsemillas )\n"
      ],
      "metadata": {
        "id": "tSlY0EcgIWdi"
      },
      "execution_count": null,
      "outputs": []
    },
    {
      "cell_type": "code",
      "source": [
        "# genero la data.table donde van los resultados detallados del Grid Search\n",
        "# un registro para cada combinacion de < semilla, parametros >\n",
        "\n",
        "if(file.exists(\"gridsearch_detalle.txt\")){\n",
        "  tb_grid_search_detalle <- fread(\"gridsearch_detalle.txt\")\n",
        "}else{\n",
        "  tb_grid_search_detalle <- data.table(\n",
        "    semilla = integer(),\n",
        "    cp = numeric(),\n",
        "    maxdepth = integer(),\n",
        "   minsplit = integer(),\n",
        "    minbucket = integer(),\n",
        "    ganancia_test = numeric()\n",
        "  )\n",
        "}\n",
        "\n",
        "nrow( tb_grid_search_detalle )"
      ],
      "metadata": {
        "id": "xxCAwIKyIaTl",
        "colab": {
          "base_uri": "https://localhost:8080/",
          "height": 34
        },
        "outputId": "99f9b075-42d0-4c38-c93d-3c1621e7695b"
      },
      "execution_count": null,
      "outputs": [
        {
          "output_type": "display_data",
          "data": {
            "text/html": [
              "0"
            ],
            "text/markdown": "0",
            "text/latex": "0",
            "text/plain": [
              "[1] 0"
            ]
          },
          "metadata": {}
        }
      ]
    },
    {
      "cell_type": "markdown",
      "source": [
        "Esta es la parte del código que usted debe expandir a TODOS los hiperparámetros de rpart,\n",
        "<br>ya que actualmente apenas recorre  maxdepth y  minsplit  dejando fijos  cp=-0.5  y minbucket=5"
      ],
      "metadata": {
        "id": "eAuGBNL8IkOD"
      }
    },
    {
      "cell_type": "code",
      "source": [
        "# itero por los loops anidados para cada hiperparametro\n",
        "iter <- 0\n",
        "\n",
        "for (vmax_depth in c(6,7,8)) {\n",
        "  for (vmin_split in c(750, 800, 850, 900, 1000)) {\n",
        "    for (min_bucket in c (22,23,24,25,26,27,28,200,205,195 )) {\n",
        "      for (cp in c(-1)) {\n",
        "    # notar como se agrega\n",
        "\n",
        "    iter <- iter + 1\n",
        "    cat( iter, \" \" )\n",
        "    flush.console()\n",
        "    if( iter*PARAM$qsemillas < nrow(tb_grid_search_detalle)+1 ) next\n",
        "\n",
        "    # vminsplit  minima cantidad de registros en un nodo para hacer el split\n",
        "    param_basicos <- list(\n",
        "      \"cp\" = cp , # complejidad minima\n",
        "      \"maxdepth\" = vmax_depth, # profundidad máxima del arbol\n",
        "      \"minsplit\" = vmin_split, # tamaño minimo de nodo para hacer split\n",
        "      \"minbucket\" = min_bucket # minima cantidad de registros en una hoja\n",
        "    )\n",
        "\n",
        "    # Un solo llamado, con la semilla 17\n",
        "    ganancias <- ArbolesMontecarlo(PARAM$semillas, param_basicos)\n",
        "\n",
        "    # agrego a la tabla\n",
        "    tb_grid_search_detalle <- rbindlist(\n",
        "      list( tb_grid_search_detalle,\n",
        "            rbindlist(ganancias) )\n",
        "    )\n",
        "\n",
        "  }\n",
        "\n",
        "  # grabo cada vez TODA la tabla en el loop mas externo\n",
        "  fwrite( tb_grid_search_detalle,\n",
        "          file = \"gridsearch_detalle.txt\",\n",
        "          sep = \"\\t\" )\n",
        "    }\n",
        "  }\n",
        "}"
      ],
      "metadata": {
        "id": "ipLHm3STIfmb",
        "colab": {
          "base_uri": "https://localhost:8080/"
        },
        "outputId": "230c2ecd-ddcc-4a42-baba-5a69d0797b98"
      },
      "execution_count": null,
      "outputs": [
        {
          "output_type": "stream",
          "name": "stdout",
          "text": [
            "1  2  3  4  5  6  7  8  9  10  11  12  13  14  15  16  17  18  19  20  21  22  23  24  25  26  27  28  29  30  31  32  33  34  35  36  37  38  39  40  41  42  43  44  45  46  47  48  49  50  51  52  53  54  55  56  57  58  59  60  61  62  63  64  65  66  67  68  69  70  71  72  73  74  75  76  77  78  79  80  81  82  83  84  85  86  87  88  89  90  91  92  93  94  95  96  97  98  99  100  101  102  103  104  105  106  107  108  109  110  111  112  113  114  115  116  117  118  119  120  121  122  123  124  125  126  127  128  129  130  131  132  133  134  135  136  137  138  139  140  141  142  143  144  145  146  147  148  149  150  "
          ]
        }
      ]
    },
    {
      "cell_type": "code",
      "source": [],
      "metadata": {
        "id": "MbhPKsazI9_9"
      },
      "execution_count": null,
      "outputs": []
    },
    {
      "cell_type": "markdown",
      "source": [],
      "metadata": {
        "id": "I8AZIOzvI9jU"
      }
    },
    {
      "cell_type": "code",
      "source": [
        "fwrite( tb_grid_search_detalle,\n",
        "   file = \"gridsearch_detalle.txt\",\n",
        "   sep = \"\\t\"\n",
        ")"
      ],
      "metadata": {
        "id": "WZaSqYBxiDFu"
      },
      "execution_count": null,
      "outputs": []
    },
    {
      "cell_type": "code",
      "source": [
        "# cantidad de registros de la tabla\n",
        "nrow(tb_grid_search_detalle)"
      ],
      "metadata": {
        "id": "STp0duM-RYVJ",
        "outputId": "1e9561fd-917b-48ae-c7c0-b236b9c26e30",
        "colab": {
          "base_uri": "https://localhost:8080/",
          "height": 34
        }
      },
      "execution_count": null,
      "outputs": [
        {
          "output_type": "display_data",
          "data": {
            "text/html": [
              "150"
            ],
            "text/markdown": "150",
            "text/latex": "150",
            "text/plain": [
              "[1] 150"
            ]
          },
          "metadata": {}
        }
      ]
    },
    {
      "cell_type": "code",
      "source": [
        "# muestro la tabla\n",
        "tb_grid_search_detalle"
      ],
      "metadata": {
        "id": "k7fhk_H0iNez",
        "outputId": "a3fd3c64-ec2d-4118-a3e3-a940e0f87c31",
        "colab": {
          "base_uri": "https://localhost:8080/",
          "height": 1000
        }
      },
      "execution_count": null,
      "outputs": [
        {
          "output_type": "display_data",
          "data": {
            "text/html": [
              "<table class=\"dataframe\">\n",
              "<caption>A data.table: 150 × 6</caption>\n",
              "<thead>\n",
              "\t<tr><th scope=col>semilla</th><th scope=col>cp</th><th scope=col>maxdepth</th><th scope=col>minsplit</th><th scope=col>minbucket</th><th scope=col>ganancia_test</th></tr>\n",
              "\t<tr><th scope=col>&lt;int&gt;</th><th scope=col>&lt;dbl&gt;</th><th scope=col>&lt;dbl&gt;</th><th scope=col>&lt;dbl&gt;</th><th scope=col>&lt;dbl&gt;</th><th scope=col>&lt;dbl&gt;</th></tr>\n",
              "</thead>\n",
              "<tbody>\n",
              "\t<tr><td>786829</td><td>-1</td><td>6</td><td>750</td><td> 22</td><td>47870000</td></tr>\n",
              "\t<tr><td>786829</td><td>-1</td><td>6</td><td>750</td><td> 23</td><td>47870000</td></tr>\n",
              "\t<tr><td>786829</td><td>-1</td><td>6</td><td>750</td><td> 24</td><td>47870000</td></tr>\n",
              "\t<tr><td>786829</td><td>-1</td><td>6</td><td>750</td><td> 25</td><td>47870000</td></tr>\n",
              "\t<tr><td>786829</td><td>-1</td><td>6</td><td>750</td><td> 26</td><td>47870000</td></tr>\n",
              "\t<tr><td>786829</td><td>-1</td><td>6</td><td>750</td><td> 27</td><td>47870000</td></tr>\n",
              "\t<tr><td>786829</td><td>-1</td><td>6</td><td>750</td><td> 28</td><td>47870000</td></tr>\n",
              "\t<tr><td>786829</td><td>-1</td><td>6</td><td>750</td><td>200</td><td>51500000</td></tr>\n",
              "\t<tr><td>786829</td><td>-1</td><td>6</td><td>750</td><td>205</td><td>51500000</td></tr>\n",
              "\t<tr><td>786829</td><td>-1</td><td>6</td><td>750</td><td>195</td><td>51380000</td></tr>\n",
              "\t<tr><td>786829</td><td>-1</td><td>6</td><td>800</td><td> 22</td><td>47870000</td></tr>\n",
              "\t<tr><td>786829</td><td>-1</td><td>6</td><td>800</td><td> 23</td><td>47870000</td></tr>\n",
              "\t<tr><td>786829</td><td>-1</td><td>6</td><td>800</td><td> 24</td><td>47870000</td></tr>\n",
              "\t<tr><td>786829</td><td>-1</td><td>6</td><td>800</td><td> 25</td><td>47870000</td></tr>\n",
              "\t<tr><td>786829</td><td>-1</td><td>6</td><td>800</td><td> 26</td><td>47870000</td></tr>\n",
              "\t<tr><td>786829</td><td>-1</td><td>6</td><td>800</td><td> 27</td><td>47870000</td></tr>\n",
              "\t<tr><td>786829</td><td>-1</td><td>6</td><td>800</td><td> 28</td><td>47870000</td></tr>\n",
              "\t<tr><td>786829</td><td>-1</td><td>6</td><td>800</td><td>200</td><td>51500000</td></tr>\n",
              "\t<tr><td>786829</td><td>-1</td><td>6</td><td>800</td><td>205</td><td>51500000</td></tr>\n",
              "\t<tr><td>786829</td><td>-1</td><td>6</td><td>800</td><td>195</td><td>51380000</td></tr>\n",
              "\t<tr><td>786829</td><td>-1</td><td>6</td><td>850</td><td> 22</td><td>47870000</td></tr>\n",
              "\t<tr><td>786829</td><td>-1</td><td>6</td><td>850</td><td> 23</td><td>47870000</td></tr>\n",
              "\t<tr><td>786829</td><td>-1</td><td>6</td><td>850</td><td> 24</td><td>47870000</td></tr>\n",
              "\t<tr><td>786829</td><td>-1</td><td>6</td><td>850</td><td> 25</td><td>47870000</td></tr>\n",
              "\t<tr><td>786829</td><td>-1</td><td>6</td><td>850</td><td> 26</td><td>47870000</td></tr>\n",
              "\t<tr><td>786829</td><td>-1</td><td>6</td><td>850</td><td> 27</td><td>47870000</td></tr>\n",
              "\t<tr><td>786829</td><td>-1</td><td>6</td><td>850</td><td> 28</td><td>47870000</td></tr>\n",
              "\t<tr><td>786829</td><td>-1</td><td>6</td><td>850</td><td>200</td><td>50540000</td></tr>\n",
              "\t<tr><td>786829</td><td>-1</td><td>6</td><td>850</td><td>205</td><td>50540000</td></tr>\n",
              "\t<tr><td>786829</td><td>-1</td><td>6</td><td>850</td><td>195</td><td>50420000</td></tr>\n",
              "\t<tr><td>⋮</td><td>⋮</td><td>⋮</td><td>⋮</td><td>⋮</td><td>⋮</td></tr>\n",
              "\t<tr><td>786829</td><td>-1</td><td>8</td><td> 850</td><td> 22</td><td>51850000</td></tr>\n",
              "\t<tr><td>786829</td><td>-1</td><td>8</td><td> 850</td><td> 23</td><td>52110000</td></tr>\n",
              "\t<tr><td>786829</td><td>-1</td><td>8</td><td> 850</td><td> 24</td><td>52070000</td></tr>\n",
              "\t<tr><td>786829</td><td>-1</td><td>8</td><td> 850</td><td> 25</td><td>52070000</td></tr>\n",
              "\t<tr><td>786829</td><td>-1</td><td>8</td><td> 850</td><td> 26</td><td>52070000</td></tr>\n",
              "\t<tr><td>786829</td><td>-1</td><td>8</td><td> 850</td><td> 27</td><td>50460000</td></tr>\n",
              "\t<tr><td>786829</td><td>-1</td><td>8</td><td> 850</td><td> 28</td><td>50460000</td></tr>\n",
              "\t<tr><td>786829</td><td>-1</td><td>8</td><td> 850</td><td>200</td><td>50170000</td></tr>\n",
              "\t<tr><td>786829</td><td>-1</td><td>8</td><td> 850</td><td>205</td><td>50160000</td></tr>\n",
              "\t<tr><td>786829</td><td>-1</td><td>8</td><td> 850</td><td>195</td><td>49300000</td></tr>\n",
              "\t<tr><td>786829</td><td>-1</td><td>8</td><td> 900</td><td> 22</td><td>51850000</td></tr>\n",
              "\t<tr><td>786829</td><td>-1</td><td>8</td><td> 900</td><td> 23</td><td>52110000</td></tr>\n",
              "\t<tr><td>786829</td><td>-1</td><td>8</td><td> 900</td><td> 24</td><td>52070000</td></tr>\n",
              "\t<tr><td>786829</td><td>-1</td><td>8</td><td> 900</td><td> 25</td><td>52070000</td></tr>\n",
              "\t<tr><td>786829</td><td>-1</td><td>8</td><td> 900</td><td> 26</td><td>52070000</td></tr>\n",
              "\t<tr><td>786829</td><td>-1</td><td>8</td><td> 900</td><td> 27</td><td>50460000</td></tr>\n",
              "\t<tr><td>786829</td><td>-1</td><td>8</td><td> 900</td><td> 28</td><td>50460000</td></tr>\n",
              "\t<tr><td>786829</td><td>-1</td><td>8</td><td> 900</td><td>200</td><td>50570000</td></tr>\n",
              "\t<tr><td>786829</td><td>-1</td><td>8</td><td> 900</td><td>205</td><td>50560000</td></tr>\n",
              "\t<tr><td>786829</td><td>-1</td><td>8</td><td> 900</td><td>195</td><td>49700000</td></tr>\n",
              "\t<tr><td>786829</td><td>-1</td><td>8</td><td>1000</td><td> 22</td><td>51660000</td></tr>\n",
              "\t<tr><td>786829</td><td>-1</td><td>8</td><td>1000</td><td> 23</td><td>51920000</td></tr>\n",
              "\t<tr><td>786829</td><td>-1</td><td>8</td><td>1000</td><td> 24</td><td>51880000</td></tr>\n",
              "\t<tr><td>786829</td><td>-1</td><td>8</td><td>1000</td><td> 25</td><td>51880000</td></tr>\n",
              "\t<tr><td>786829</td><td>-1</td><td>8</td><td>1000</td><td> 26</td><td>51880000</td></tr>\n",
              "\t<tr><td>786829</td><td>-1</td><td>8</td><td>1000</td><td> 27</td><td>50270000</td></tr>\n",
              "\t<tr><td>786829</td><td>-1</td><td>8</td><td>1000</td><td> 28</td><td>50270000</td></tr>\n",
              "\t<tr><td>786829</td><td>-1</td><td>8</td><td>1000</td><td>200</td><td>50570000</td></tr>\n",
              "\t<tr><td>786829</td><td>-1</td><td>8</td><td>1000</td><td>205</td><td>50560000</td></tr>\n",
              "\t<tr><td>786829</td><td>-1</td><td>8</td><td>1000</td><td>195</td><td>49700000</td></tr>\n",
              "</tbody>\n",
              "</table>\n"
            ],
            "text/markdown": "\nA data.table: 150 × 6\n\n| semilla &lt;int&gt; | cp &lt;dbl&gt; | maxdepth &lt;dbl&gt; | minsplit &lt;dbl&gt; | minbucket &lt;dbl&gt; | ganancia_test &lt;dbl&gt; |\n|---|---|---|---|---|---|\n| 786829 | -1 | 6 | 750 |  22 | 47870000 |\n| 786829 | -1 | 6 | 750 |  23 | 47870000 |\n| 786829 | -1 | 6 | 750 |  24 | 47870000 |\n| 786829 | -1 | 6 | 750 |  25 | 47870000 |\n| 786829 | -1 | 6 | 750 |  26 | 47870000 |\n| 786829 | -1 | 6 | 750 |  27 | 47870000 |\n| 786829 | -1 | 6 | 750 |  28 | 47870000 |\n| 786829 | -1 | 6 | 750 | 200 | 51500000 |\n| 786829 | -1 | 6 | 750 | 205 | 51500000 |\n| 786829 | -1 | 6 | 750 | 195 | 51380000 |\n| 786829 | -1 | 6 | 800 |  22 | 47870000 |\n| 786829 | -1 | 6 | 800 |  23 | 47870000 |\n| 786829 | -1 | 6 | 800 |  24 | 47870000 |\n| 786829 | -1 | 6 | 800 |  25 | 47870000 |\n| 786829 | -1 | 6 | 800 |  26 | 47870000 |\n| 786829 | -1 | 6 | 800 |  27 | 47870000 |\n| 786829 | -1 | 6 | 800 |  28 | 47870000 |\n| 786829 | -1 | 6 | 800 | 200 | 51500000 |\n| 786829 | -1 | 6 | 800 | 205 | 51500000 |\n| 786829 | -1 | 6 | 800 | 195 | 51380000 |\n| 786829 | -1 | 6 | 850 |  22 | 47870000 |\n| 786829 | -1 | 6 | 850 |  23 | 47870000 |\n| 786829 | -1 | 6 | 850 |  24 | 47870000 |\n| 786829 | -1 | 6 | 850 |  25 | 47870000 |\n| 786829 | -1 | 6 | 850 |  26 | 47870000 |\n| 786829 | -1 | 6 | 850 |  27 | 47870000 |\n| 786829 | -1 | 6 | 850 |  28 | 47870000 |\n| 786829 | -1 | 6 | 850 | 200 | 50540000 |\n| 786829 | -1 | 6 | 850 | 205 | 50540000 |\n| 786829 | -1 | 6 | 850 | 195 | 50420000 |\n| ⋮ | ⋮ | ⋮ | ⋮ | ⋮ | ⋮ |\n| 786829 | -1 | 8 |  850 |  22 | 51850000 |\n| 786829 | -1 | 8 |  850 |  23 | 52110000 |\n| 786829 | -1 | 8 |  850 |  24 | 52070000 |\n| 786829 | -1 | 8 |  850 |  25 | 52070000 |\n| 786829 | -1 | 8 |  850 |  26 | 52070000 |\n| 786829 | -1 | 8 |  850 |  27 | 50460000 |\n| 786829 | -1 | 8 |  850 |  28 | 50460000 |\n| 786829 | -1 | 8 |  850 | 200 | 50170000 |\n| 786829 | -1 | 8 |  850 | 205 | 50160000 |\n| 786829 | -1 | 8 |  850 | 195 | 49300000 |\n| 786829 | -1 | 8 |  900 |  22 | 51850000 |\n| 786829 | -1 | 8 |  900 |  23 | 52110000 |\n| 786829 | -1 | 8 |  900 |  24 | 52070000 |\n| 786829 | -1 | 8 |  900 |  25 | 52070000 |\n| 786829 | -1 | 8 |  900 |  26 | 52070000 |\n| 786829 | -1 | 8 |  900 |  27 | 50460000 |\n| 786829 | -1 | 8 |  900 |  28 | 50460000 |\n| 786829 | -1 | 8 |  900 | 200 | 50570000 |\n| 786829 | -1 | 8 |  900 | 205 | 50560000 |\n| 786829 | -1 | 8 |  900 | 195 | 49700000 |\n| 786829 | -1 | 8 | 1000 |  22 | 51660000 |\n| 786829 | -1 | 8 | 1000 |  23 | 51920000 |\n| 786829 | -1 | 8 | 1000 |  24 | 51880000 |\n| 786829 | -1 | 8 | 1000 |  25 | 51880000 |\n| 786829 | -1 | 8 | 1000 |  26 | 51880000 |\n| 786829 | -1 | 8 | 1000 |  27 | 50270000 |\n| 786829 | -1 | 8 | 1000 |  28 | 50270000 |\n| 786829 | -1 | 8 | 1000 | 200 | 50570000 |\n| 786829 | -1 | 8 | 1000 | 205 | 50560000 |\n| 786829 | -1 | 8 | 1000 | 195 | 49700000 |\n\n",
            "text/latex": "A data.table: 150 × 6\n\\begin{tabular}{llllll}\n semilla & cp & maxdepth & minsplit & minbucket & ganancia\\_test\\\\\n <int> & <dbl> & <dbl> & <dbl> & <dbl> & <dbl>\\\\\n\\hline\n\t 786829 & -1 & 6 & 750 &  22 & 47870000\\\\\n\t 786829 & -1 & 6 & 750 &  23 & 47870000\\\\\n\t 786829 & -1 & 6 & 750 &  24 & 47870000\\\\\n\t 786829 & -1 & 6 & 750 &  25 & 47870000\\\\\n\t 786829 & -1 & 6 & 750 &  26 & 47870000\\\\\n\t 786829 & -1 & 6 & 750 &  27 & 47870000\\\\\n\t 786829 & -1 & 6 & 750 &  28 & 47870000\\\\\n\t 786829 & -1 & 6 & 750 & 200 & 51500000\\\\\n\t 786829 & -1 & 6 & 750 & 205 & 51500000\\\\\n\t 786829 & -1 & 6 & 750 & 195 & 51380000\\\\\n\t 786829 & -1 & 6 & 800 &  22 & 47870000\\\\\n\t 786829 & -1 & 6 & 800 &  23 & 47870000\\\\\n\t 786829 & -1 & 6 & 800 &  24 & 47870000\\\\\n\t 786829 & -1 & 6 & 800 &  25 & 47870000\\\\\n\t 786829 & -1 & 6 & 800 &  26 & 47870000\\\\\n\t 786829 & -1 & 6 & 800 &  27 & 47870000\\\\\n\t 786829 & -1 & 6 & 800 &  28 & 47870000\\\\\n\t 786829 & -1 & 6 & 800 & 200 & 51500000\\\\\n\t 786829 & -1 & 6 & 800 & 205 & 51500000\\\\\n\t 786829 & -1 & 6 & 800 & 195 & 51380000\\\\\n\t 786829 & -1 & 6 & 850 &  22 & 47870000\\\\\n\t 786829 & -1 & 6 & 850 &  23 & 47870000\\\\\n\t 786829 & -1 & 6 & 850 &  24 & 47870000\\\\\n\t 786829 & -1 & 6 & 850 &  25 & 47870000\\\\\n\t 786829 & -1 & 6 & 850 &  26 & 47870000\\\\\n\t 786829 & -1 & 6 & 850 &  27 & 47870000\\\\\n\t 786829 & -1 & 6 & 850 &  28 & 47870000\\\\\n\t 786829 & -1 & 6 & 850 & 200 & 50540000\\\\\n\t 786829 & -1 & 6 & 850 & 205 & 50540000\\\\\n\t 786829 & -1 & 6 & 850 & 195 & 50420000\\\\\n\t ⋮ & ⋮ & ⋮ & ⋮ & ⋮ & ⋮\\\\\n\t 786829 & -1 & 8 &  850 &  22 & 51850000\\\\\n\t 786829 & -1 & 8 &  850 &  23 & 52110000\\\\\n\t 786829 & -1 & 8 &  850 &  24 & 52070000\\\\\n\t 786829 & -1 & 8 &  850 &  25 & 52070000\\\\\n\t 786829 & -1 & 8 &  850 &  26 & 52070000\\\\\n\t 786829 & -1 & 8 &  850 &  27 & 50460000\\\\\n\t 786829 & -1 & 8 &  850 &  28 & 50460000\\\\\n\t 786829 & -1 & 8 &  850 & 200 & 50170000\\\\\n\t 786829 & -1 & 8 &  850 & 205 & 50160000\\\\\n\t 786829 & -1 & 8 &  850 & 195 & 49300000\\\\\n\t 786829 & -1 & 8 &  900 &  22 & 51850000\\\\\n\t 786829 & -1 & 8 &  900 &  23 & 52110000\\\\\n\t 786829 & -1 & 8 &  900 &  24 & 52070000\\\\\n\t 786829 & -1 & 8 &  900 &  25 & 52070000\\\\\n\t 786829 & -1 & 8 &  900 &  26 & 52070000\\\\\n\t 786829 & -1 & 8 &  900 &  27 & 50460000\\\\\n\t 786829 & -1 & 8 &  900 &  28 & 50460000\\\\\n\t 786829 & -1 & 8 &  900 & 200 & 50570000\\\\\n\t 786829 & -1 & 8 &  900 & 205 & 50560000\\\\\n\t 786829 & -1 & 8 &  900 & 195 & 49700000\\\\\n\t 786829 & -1 & 8 & 1000 &  22 & 51660000\\\\\n\t 786829 & -1 & 8 & 1000 &  23 & 51920000\\\\\n\t 786829 & -1 & 8 & 1000 &  24 & 51880000\\\\\n\t 786829 & -1 & 8 & 1000 &  25 & 51880000\\\\\n\t 786829 & -1 & 8 & 1000 &  26 & 51880000\\\\\n\t 786829 & -1 & 8 & 1000 &  27 & 50270000\\\\\n\t 786829 & -1 & 8 & 1000 &  28 & 50270000\\\\\n\t 786829 & -1 & 8 & 1000 & 200 & 50570000\\\\\n\t 786829 & -1 & 8 & 1000 & 205 & 50560000\\\\\n\t 786829 & -1 & 8 & 1000 & 195 & 49700000\\\\\n\\end{tabular}\n",
            "text/plain": [
              "    semilla cp maxdepth minsplit minbucket ganancia_test\n",
              "1   786829  -1 6        750       22       47870000     \n",
              "2   786829  -1 6        750       23       47870000     \n",
              "3   786829  -1 6        750       24       47870000     \n",
              "4   786829  -1 6        750       25       47870000     \n",
              "5   786829  -1 6        750       26       47870000     \n",
              "6   786829  -1 6        750       27       47870000     \n",
              "7   786829  -1 6        750       28       47870000     \n",
              "8   786829  -1 6        750      200       51500000     \n",
              "9   786829  -1 6        750      205       51500000     \n",
              "10  786829  -1 6        750      195       51380000     \n",
              "11  786829  -1 6        800       22       47870000     \n",
              "12  786829  -1 6        800       23       47870000     \n",
              "13  786829  -1 6        800       24       47870000     \n",
              "14  786829  -1 6        800       25       47870000     \n",
              "15  786829  -1 6        800       26       47870000     \n",
              "16  786829  -1 6        800       27       47870000     \n",
              "17  786829  -1 6        800       28       47870000     \n",
              "18  786829  -1 6        800      200       51500000     \n",
              "19  786829  -1 6        800      205       51500000     \n",
              "20  786829  -1 6        800      195       51380000     \n",
              "21  786829  -1 6        850       22       47870000     \n",
              "22  786829  -1 6        850       23       47870000     \n",
              "23  786829  -1 6        850       24       47870000     \n",
              "24  786829  -1 6        850       25       47870000     \n",
              "25  786829  -1 6        850       26       47870000     \n",
              "26  786829  -1 6        850       27       47870000     \n",
              "27  786829  -1 6        850       28       47870000     \n",
              "28  786829  -1 6        850      200       50540000     \n",
              "29  786829  -1 6        850      205       50540000     \n",
              "30  786829  -1 6        850      195       50420000     \n",
              "⋮   ⋮       ⋮  ⋮        ⋮        ⋮         ⋮            \n",
              "121 786829  -1 8         850      22       51850000     \n",
              "122 786829  -1 8         850      23       52110000     \n",
              "123 786829  -1 8         850      24       52070000     \n",
              "124 786829  -1 8         850      25       52070000     \n",
              "125 786829  -1 8         850      26       52070000     \n",
              "126 786829  -1 8         850      27       50460000     \n",
              "127 786829  -1 8         850      28       50460000     \n",
              "128 786829  -1 8         850     200       50170000     \n",
              "129 786829  -1 8         850     205       50160000     \n",
              "130 786829  -1 8         850     195       49300000     \n",
              "131 786829  -1 8         900      22       51850000     \n",
              "132 786829  -1 8         900      23       52110000     \n",
              "133 786829  -1 8         900      24       52070000     \n",
              "134 786829  -1 8         900      25       52070000     \n",
              "135 786829  -1 8         900      26       52070000     \n",
              "136 786829  -1 8         900      27       50460000     \n",
              "137 786829  -1 8         900      28       50460000     \n",
              "138 786829  -1 8         900     200       50570000     \n",
              "139 786829  -1 8         900     205       50560000     \n",
              "140 786829  -1 8         900     195       49700000     \n",
              "141 786829  -1 8        1000      22       51660000     \n",
              "142 786829  -1 8        1000      23       51920000     \n",
              "143 786829  -1 8        1000      24       51880000     \n",
              "144 786829  -1 8        1000      25       51880000     \n",
              "145 786829  -1 8        1000      26       51880000     \n",
              "146 786829  -1 8        1000      27       50270000     \n",
              "147 786829  -1 8        1000      28       50270000     \n",
              "148 786829  -1 8        1000     200       50570000     \n",
              "149 786829  -1 8        1000     205       50560000     \n",
              "150 786829  -1 8        1000     195       49700000     "
            ]
          },
          "metadata": {}
        }
      ]
    },
    {
      "cell_type": "code",
      "source": [
        "# genero y grabo el resumen\n",
        "tb_grid_search <- tb_grid_search_detalle[,\n",
        "  list( \"ganancia_mean\" = mean(ganancia_test),\n",
        "    \"qty\" = .N ),\n",
        "  list( cp, maxdepth, minsplit, minbucket )\n",
        "]\n"
      ],
      "metadata": {
        "id": "DjCxtx8bIsgl"
      },
      "execution_count": null,
      "outputs": []
    },
    {
      "cell_type": "code",
      "source": [
        "# ordeno descendente por ganancia\n",
        "setorder( tb_grid_search, -ganancia_mean )\n"
      ],
      "metadata": {
        "id": "LU29UhL1Ivg5"
      },
      "execution_count": null,
      "outputs": []
    },
    {
      "cell_type": "code",
      "source": [
        "# veo los 10 mejores hiperparámetros\n",
        "tb_grid_search[1:10]"
      ],
      "metadata": {
        "id": "g-EjGY7aIyWL",
        "outputId": "b280ff57-c4bb-429b-9474-788acc154fc7",
        "colab": {
          "base_uri": "https://localhost:8080/",
          "height": 412
        }
      },
      "execution_count": null,
      "outputs": [
        {
          "output_type": "display_data",
          "data": {
            "text/html": [
              "<table class=\"dataframe\">\n",
              "<caption>A data.table: 10 × 6</caption>\n",
              "<thead>\n",
              "\t<tr><th scope=col>cp</th><th scope=col>maxdepth</th><th scope=col>minsplit</th><th scope=col>minbucket</th><th scope=col>ganancia_mean</th><th scope=col>qty</th></tr>\n",
              "\t<tr><th scope=col>&lt;dbl&gt;</th><th scope=col>&lt;dbl&gt;</th><th scope=col>&lt;dbl&gt;</th><th scope=col>&lt;dbl&gt;</th><th scope=col>&lt;dbl&gt;</th><th scope=col>&lt;int&gt;</th></tr>\n",
              "</thead>\n",
              "<tbody>\n",
              "\t<tr><td>-1</td><td>8</td><td>800</td><td>23</td><td>52110000</td><td>1</td></tr>\n",
              "\t<tr><td>-1</td><td>8</td><td>850</td><td>23</td><td>52110000</td><td>1</td></tr>\n",
              "\t<tr><td>-1</td><td>8</td><td>900</td><td>23</td><td>52110000</td><td>1</td></tr>\n",
              "\t<tr><td>-1</td><td>8</td><td>800</td><td>24</td><td>52070000</td><td>1</td></tr>\n",
              "\t<tr><td>-1</td><td>8</td><td>800</td><td>25</td><td>52070000</td><td>1</td></tr>\n",
              "\t<tr><td>-1</td><td>8</td><td>800</td><td>26</td><td>52070000</td><td>1</td></tr>\n",
              "\t<tr><td>-1</td><td>8</td><td>850</td><td>24</td><td>52070000</td><td>1</td></tr>\n",
              "\t<tr><td>-1</td><td>8</td><td>850</td><td>25</td><td>52070000</td><td>1</td></tr>\n",
              "\t<tr><td>-1</td><td>8</td><td>850</td><td>26</td><td>52070000</td><td>1</td></tr>\n",
              "\t<tr><td>-1</td><td>8</td><td>900</td><td>24</td><td>52070000</td><td>1</td></tr>\n",
              "</tbody>\n",
              "</table>\n"
            ],
            "text/markdown": "\nA data.table: 10 × 6\n\n| cp &lt;dbl&gt; | maxdepth &lt;dbl&gt; | minsplit &lt;dbl&gt; | minbucket &lt;dbl&gt; | ganancia_mean &lt;dbl&gt; | qty &lt;int&gt; |\n|---|---|---|---|---|---|\n| -1 | 8 | 800 | 23 | 52110000 | 1 |\n| -1 | 8 | 850 | 23 | 52110000 | 1 |\n| -1 | 8 | 900 | 23 | 52110000 | 1 |\n| -1 | 8 | 800 | 24 | 52070000 | 1 |\n| -1 | 8 | 800 | 25 | 52070000 | 1 |\n| -1 | 8 | 800 | 26 | 52070000 | 1 |\n| -1 | 8 | 850 | 24 | 52070000 | 1 |\n| -1 | 8 | 850 | 25 | 52070000 | 1 |\n| -1 | 8 | 850 | 26 | 52070000 | 1 |\n| -1 | 8 | 900 | 24 | 52070000 | 1 |\n\n",
            "text/latex": "A data.table: 10 × 6\n\\begin{tabular}{llllll}\n cp & maxdepth & minsplit & minbucket & ganancia\\_mean & qty\\\\\n <dbl> & <dbl> & <dbl> & <dbl> & <dbl> & <int>\\\\\n\\hline\n\t -1 & 8 & 800 & 23 & 52110000 & 1\\\\\n\t -1 & 8 & 850 & 23 & 52110000 & 1\\\\\n\t -1 & 8 & 900 & 23 & 52110000 & 1\\\\\n\t -1 & 8 & 800 & 24 & 52070000 & 1\\\\\n\t -1 & 8 & 800 & 25 & 52070000 & 1\\\\\n\t -1 & 8 & 800 & 26 & 52070000 & 1\\\\\n\t -1 & 8 & 850 & 24 & 52070000 & 1\\\\\n\t -1 & 8 & 850 & 25 & 52070000 & 1\\\\\n\t -1 & 8 & 850 & 26 & 52070000 & 1\\\\\n\t -1 & 8 & 900 & 24 & 52070000 & 1\\\\\n\\end{tabular}\n",
            "text/plain": [
              "   cp maxdepth minsplit minbucket ganancia_mean qty\n",
              "1  -1 8        800      23        52110000      1  \n",
              "2  -1 8        850      23        52110000      1  \n",
              "3  -1 8        900      23        52110000      1  \n",
              "4  -1 8        800      24        52070000      1  \n",
              "5  -1 8        800      25        52070000      1  \n",
              "6  -1 8        800      26        52070000      1  \n",
              "7  -1 8        850      24        52070000      1  \n",
              "8  -1 8        850      25        52070000      1  \n",
              "9  -1 8        850      26        52070000      1  \n",
              "10 -1 8        900      24        52070000      1  "
            ]
          },
          "metadata": {}
        }
      ]
    },
    {
      "cell_type": "code",
      "source": [
        "# genero un id a la tabla\n",
        "tb_grid_search[, id := .I ]\n",
        "\n",
        "fwrite( tb_grid_search,\n",
        "  file = \"gridsearch.txt\",\n",
        "  sep = \"\\t\"\n",
        ")\n"
      ],
      "metadata": {
        "id": "K3S-I2PTI5ZE"
      },
      "execution_count": null,
      "outputs": []
    },
    {
      "cell_type": "markdown",
      "source": [
        "# 4.  Análisis de resultados de Grid Search"
      ],
      "metadata": {
        "id": "1rYHk1YkI_9k"
      }
    },
    {
      "cell_type": "markdown",
      "source": [
        "La salida de la corrida anterior queda en ~/buckets/b1/exp/HT2900  que corresponde a su Google Drive\n",
        "<br>HT significa Hyperparameter Tuning\n",
        "<br>El Grid Search es un método de fuerza bruta de un altísimo costo computacional.\n",
        "<br>Queremos ver si es posible crear un algoritmo de optimización de hiperparámetros que se ahorre recorrer ciertas porciones muy malas del espacio de búsqueda. Algo del estilo “cada vez que pruebo una combinación de hiperparámetros donde  cp > 1 , la ganancia es muy mala, con lo cual ni vale la pena perder el tiempo explorando en esa region”\n"
      ],
      "metadata": {
        "id": "ZTJgPhMWJHTk"
      }
    },
    {
      "cell_type": "markdown",
      "source": [
        "<br>Levante el archivo de salida gridsearch.txt  a una planilla tipo Excel y analícelo detenidamente\n",
        "<br>Ordene por ganancia_mean descendente\n",
        "<br>\n",
        "<br>El de mayor ganancia_mean  decimos que es el primero del ranking\n",
        "En Zulip, correspondiente channel  #Tarea Hogar 02 , topic Analisis Grid Search   intente contestar estas preguntas:\n",
        "\n",
        "* ¿Qué combinaciones de hiperparámetros poseen una ganancia muy buena?\n",
        "* ¿Hay algun hiperparámetro que para cierto valor siempre genera una ganancia muy mala, a independientemente de lo que valgan los otros hiperparámetros ?\n",
        "* ¿Que combinaciones de hiperparámetros es pésima y hubiera sido bueno ahorrarse esas corridas ?\n",
        "\n",
        "( tiempo estimado 30 minutos, dificultad media )"
      ],
      "metadata": {
        "id": "IaVgMu4tPwyB"
      }
    }
  ]
}