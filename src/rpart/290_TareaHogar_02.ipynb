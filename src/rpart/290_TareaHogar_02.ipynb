{
  "nbformat": 4,
  "nbformat_minor": 0,
  "metadata": {
    "colab": {
      "provenance": []
    },
    "kernelspec": {
      "name": "ir",
      "display_name": "R"
    },
    "language_info": {
      "name": "R"
    }
  },
  "cells": [
    {
      "cell_type": "markdown",
      "source": [
        "# Tarea para el Hogar 02"
      ],
      "metadata": {
        "id": "F3r8aa3pBigj"
      }
    },
    {
      "cell_type": "markdown",
      "source": [
        "Esta Tarea para el Hogar 02 se entrega el final de la segunda clase\n",
        "<br> se espera de usted que intente avanzar con los desafios propuestos y que los traiga terminados para la Clase 03, ya que se analizarán los resultados"
      ],
      "metadata": {
        "id": "nBm4ktHUBmZt"
      }
    },
    {
      "cell_type": "markdown",
      "source": [
        "##  1. Ensembles de Modelos"
      ],
      "metadata": {
        "id": "TK-M04ElCESC"
      }
    },
    {
      "cell_type": "markdown",
      "source": [
        "Vea el siguiente video [BBC - The Code - The Wisdom of the Crowd](https://www.youtube.com/watch?v=iOucwX7Z1HU)    ( 5 min)\n"
      ],
      "metadata": {
        "id": "biPYxgobCOSS"
      }
    },
    {
      "cell_type": "markdown",
      "source": [
        "Lea los siguientes artículos\n",
        "\n",
        "\n",
        "*   [The Wisdom of Crowds (Vox Populi) by Francis Galton](https://www.all-about-psychology.com/the-wisdom-of-crowds.html)  (10 min)\n",
        "*   [A Gentle Introduction to Ensemble Learning](https://machinelearningmastery.com/what-is-ensemble-learning/)  (10 min)\n",
        "\n"
      ],
      "metadata": {
        "id": "FBszBRyNCcjp"
      }
    },
    {
      "cell_type": "markdown",
      "source": [
        "\n",
        "\n",
        "---\n",
        "\n"
      ],
      "metadata": {
        "id": "x7SebtV2lpHQ"
      }
    },
    {
      "cell_type": "markdown",
      "source": [
        "##  2.  Zero2Hero   primera parte\n",
        "Se han lanzado los primeros fascículos coleccionables llamados \"from Zero to Hero\" que muy detalladamente, paso a paso enseñan todo lo necesario de R para entender los scripts oficiales de la asignatura.\n",
        "Están en el repositorio oficial de la asignatura, carpeta  **src/zero2hero**"
      ],
      "metadata": {
        "id": "NQcY8u2MDSLT"
      }
    },
    {
      "cell_type": "markdown",
      "source": [
        "\n",
        "\n",
        "---\n",
        "\n"
      ],
      "metadata": {
        "id": "GcO0OSiIEAGy"
      }
    },
    {
      "cell_type": "markdown",
      "source": [
        "## 3.  Grid Search"
      ],
      "metadata": {
        "id": "6MStcyn0EBdT"
      }
    },
    {
      "cell_type": "markdown",
      "source": [
        "Busque en internet el precido significado de los hiperparámetros de la librería **rpart**  que está implementando el algoritmo **CART**  Classification and Regression Trees  propuesto en el año 1984 por Leo Brieman:\n",
        "\n",
        "*   cp\n",
        "*   maxdepth\n",
        "*   minsplit\n",
        "*   minbucket\n",
        "\n",
        "Entienda que valores es razonable tome cada hiperparámetro,  en particular profundice en el hiperparámetro  **cp**  y la posibilidad que tome valores negativos.  Es válido consultar a su amigo de *capacidades especiales*  ChatGPT\n"
      ],
      "metadata": {
        "id": "gM8RKXDgEIY0"
      }
    },
    {
      "cell_type": "markdown",
      "source": [
        "En las siguientes celdas a un notebook incompleto, un esqueleto de codigo brindado a modo de facilitarle la tarea de codeo y permitir que su valiosa cognición se concentre temas conceptuales de Ciencia de Datos\n",
        "\n",
        "Modifiquelo agregando loops para que recorra TODOS los hiperparámetros de rpart  < cp, maxdepth, minsplit, minbucket >, y luego póngalo a correr. Recuerde cambiar por SU semilla\n",
        "Tenga muy presente la granularidad que eligirá para cada hiperparámetro."
      ],
      "metadata": {
        "id": "_k7eT3HIFy9y"
      }
    },
    {
      "cell_type": "markdown",
      "source": [
        "### Seteo del ambiente en Google Colab"
      ],
      "metadata": {
        "id": "kmLygy1TYPfg"
      }
    },
    {
      "cell_type": "markdown",
      "source": [
        "Esta parte se debe correr con el runtime en Python3\n",
        "<br>Ir al menu, Runtime -> Change Runtime Tipe -> Runtime type ->  **Python 3**"
      ],
      "metadata": {
        "id": "OikOm5K2YU3X"
      }
    },
    {
      "cell_type": "markdown",
      "source": [
        "Conectar la virtual machine donde esta corriendo Google Colab con el  Google Drive, para poder tener persistencia de archivos"
      ],
      "metadata": {
        "id": "4fmV5LyZdFyI"
      }
    },
    {
      "cell_type": "code",
      "source": [
        "# primero establecer el Runtime de Python 3\n",
        "from google.colab import drive\n",
        "drive.mount('/content/.drive')"
      ],
      "metadata": {
        "id": "ilEZ-bE2VybW",
        "outputId": "b3c32a4f-1107-47bc-95cd-e2ec7c0d3a6f",
        "colab": {
          "base_uri": "https://localhost:8080/"
        }
      },
      "execution_count": 1,
      "outputs": [
        {
          "output_type": "stream",
          "name": "stdout",
          "text": [
            "Drive already mounted at /content/.drive; to attempt to forcibly remount, call drive.mount(\"/content/.drive\", force_remount=True).\n"
          ]
        }
      ]
    },
    {
      "cell_type": "markdown",
      "source": [
        "Para correr la siguiente celda es fundamental en Arranque en Frio haber copiado el archivo kaggle.json al Google Drive, en la carpeta indicada en el instructivo\n",
        "\n",
        "<br>los siguientes comando estan en shell script de Linux\n",
        "*   Crear las carpetas en el Google Drive\n",
        "*   \"instalar\" el archivo kaggle.json desde el Google Drive a la virtual machine para que pueda ser utilizado por la libreria  kaggle de Python\n",
        "*   Bajar el  **dataset_pequeno**  al  Google Drive  y tambien al disco local de la virtual machine que esta corriendo Google Colab\n",
        "\n"
      ],
      "metadata": {
        "id": "ilaKtqWldeWg"
      }
    },
    {
      "cell_type": "code",
      "source": [
        "%%shell\n",
        "\n",
        "mkdir -p \"/content/.drive/My Drive/labo1\"\n",
        "mkdir -p \"/content/buckets\"\n",
        "ln -s \"/content/.drive/My Drive/labo1\" /content/buckets/b1\n",
        "\n",
        "mkdir -p ~/.kaggle\n",
        "cp /content/buckets/b1/kaggle/kaggle.json  ~/.kaggle\n",
        "chmod 600 ~/.kaggle/kaggle.json\n",
        "\n",
        "\n",
        "mkdir -p /content/buckets/b1/exp\n",
        "mkdir -p /content/buckets/b1/datasets\n",
        "mkdir -p /content/datasets\n",
        "\n",
        "\n",
        "\n",
        "archivo_origen=\"https://storage.googleapis.com/open-courses/austral2025-af91/dataset_pequeno.csv\"\n",
        "archivo_destino=\"/content/datasets/dataset_pequeno.csv\"\n",
        "archivo_destino_bucket=\"/content/buckets/b1/datasets/dataset_pequeno.csv\"\n",
        "\n",
        "if ! test -f $archivo_destino_bucket; then\n",
        "  wget  $archivo_origen  -O $archivo_destino_bucket\n",
        "fi\n",
        "\n",
        "\n",
        "if ! test -f $archivo_destino; then\n",
        "  cp  $archivo_destino_bucket  $archivo_destino\n",
        "fi\n",
        "\n"
      ],
      "metadata": {
        "id": "W8dQFI5QYCFa",
        "outputId": "b2c72bff-78ac-4075-b4e3-de5097a2f29b",
        "colab": {
          "base_uri": "https://localhost:8080/"
        }
      },
      "execution_count": 2,
      "outputs": [
        {
          "output_type": "stream",
          "name": "stdout",
          "text": [
            "ln: failed to create symbolic link '/content/buckets/b1/labo1': File exists\n",
            "cp: cannot stat '/content/buckets/b1/kaggle/kaggle.json': No such file or directory\n",
            "chmod: cannot access '/root/.kaggle/kaggle.json': No such file or directory\n"
          ]
        },
        {
          "output_type": "execute_result",
          "data": {
            "text/plain": []
          },
          "metadata": {},
          "execution_count": 2
        }
      ]
    },
    {
      "cell_type": "markdown",
      "source": [
        "limpio el ambiente de R"
      ],
      "metadata": {
        "id": "SE94XRhWsxkX"
      }
    },
    {
      "cell_type": "code",
      "source": [
        "# limpio la memoria\n",
        "rm(list=ls(all.names=TRUE)) # remove all objects\n",
        "gc(full=TRUE, verbose=FALSE) # garbage collection"
      ],
      "metadata": {
        "id": "oZG_4br6szlT",
        "colab": {
          "base_uri": "https://localhost:8080/",
          "height": 129
        },
        "outputId": "937b4760-ebff-444c-aeaa-ce4660c768a5"
      },
      "execution_count": 1,
      "outputs": [
        {
          "output_type": "display_data",
          "data": {
            "text/html": [
              "<table class=\"dataframe\">\n",
              "<caption>A matrix: 2 × 6 of type dbl</caption>\n",
              "<thead>\n",
              "\t<tr><th></th><th scope=col>used</th><th scope=col>(Mb)</th><th scope=col>gc trigger</th><th scope=col>(Mb)</th><th scope=col>max used</th><th scope=col>(Mb)</th></tr>\n",
              "</thead>\n",
              "<tbody>\n",
              "\t<tr><th scope=row>Ncells</th><td> 657248</td><td>35.2</td><td>1454471</td><td>77.7</td><td>1367417</td><td>73.1</td></tr>\n",
              "\t<tr><th scope=row>Vcells</th><td>1220277</td><td> 9.4</td><td>8388608</td><td>64.0</td><td>1975127</td><td>15.1</td></tr>\n",
              "</tbody>\n",
              "</table>\n"
            ],
            "text/markdown": "\nA matrix: 2 × 6 of type dbl\n\n| <!--/--> | used | (Mb) | gc trigger | (Mb) | max used | (Mb) |\n|---|---|---|---|---|---|---|\n| Ncells |  657248 | 35.2 | 1454471 | 77.7 | 1367417 | 73.1 |\n| Vcells | 1220277 |  9.4 | 8388608 | 64.0 | 1975127 | 15.1 |\n\n",
            "text/latex": "A matrix: 2 × 6 of type dbl\n\\begin{tabular}{r|llllll}\n  & used & (Mb) & gc trigger & (Mb) & max used & (Mb)\\\\\n\\hline\n\tNcells &  657248 & 35.2 & 1454471 & 77.7 & 1367417 & 73.1\\\\\n\tVcells & 1220277 &  9.4 & 8388608 & 64.0 & 1975127 & 15.1\\\\\n\\end{tabular}\n",
            "text/plain": [
              "       used    (Mb) gc trigger (Mb) max used (Mb)\n",
              "Ncells  657248 35.2 1454471    77.7 1367417  73.1\n",
              "Vcells 1220277  9.4 8388608    64.0 1975127  15.1"
            ]
          },
          "metadata": {}
        }
      ]
    },
    {
      "cell_type": "code",
      "source": [
        "# cargo las librerias que necesito\n",
        "require(\"data.table\")\n",
        "require(\"rpart\")\n",
        "require(\"parallel\")\n",
        "if (!require(\"primes\")) install.packages(\"primes\")\n",
        "require(\"primes\")"
      ],
      "metadata": {
        "id": "JO-12d7YHkWy",
        "outputId": "f85c2aea-daf9-4164-ed52-ec1a0a141e2c",
        "colab": {
          "base_uri": "https://localhost:8080/"
        }
      },
      "execution_count": 2,
      "outputs": [
        {
          "output_type": "stream",
          "name": "stderr",
          "text": [
            "Loading required package: data.table\n",
            "\n",
            "Loading required package: rpart\n",
            "\n",
            "Loading required package: parallel\n",
            "\n",
            "Loading required package: primes\n",
            "\n",
            "Warning message in library(package, lib.loc = lib.loc, character.only = TRUE, logical.return = TRUE, :\n",
            "“there is no package called ‘primes’”\n",
            "Installing package into ‘/usr/local/lib/R/site-library’\n",
            "(as ‘lib’ is unspecified)\n",
            "\n",
            "Loading required package: primes\n",
            "\n"
          ]
        }
      ]
    },
    {
      "cell_type": "markdown",
      "source": [
        "Aqui debe poner SU semiila primigenia"
      ],
      "metadata": {
        "id": "0MclPEJ6Q8Bp"
      }
    },
    {
      "cell_type": "code",
      "source": [
        "PARAM <- list()\n",
        "# reemplazar por su primer semilla\n",
        "PARAM$semilla_primigenia <- 105727\n",
        "PARAM$qsemillas <- 1\n",
        "\n",
        "PARAM$training_pct <- 70L  # entre  1L y 99L\n",
        "\n",
        "# elegir SU dataset comentando/ descomentando\n",
        "PARAM$dataset_nom <- \"~/datasets/dataset_pequeno.csv\""
      ],
      "metadata": {
        "id": "Vt5fC6bWHu5r"
      },
      "execution_count": 3,
      "outputs": []
    },
    {
      "cell_type": "code",
      "source": [
        "# particionar agrega una columna llamada fold a un dataset\n",
        "#  que consiste en una particion estratificada segun agrupa\n",
        "# particionar( data=dataset, division=c(70,30), agrupa=clase_ternaria, seed=semilla)\n",
        "#   crea una particion 70, 30\n",
        "\n",
        "particionar <- function(data, division, agrupa = \"\", campo = \"fold\", start = 1, seed = NA) {\n",
        "  if (!is.na(seed)) set.seed(seed)\n",
        "\n",
        "  bloque <- unlist(mapply(function(x, y) {\n",
        "    rep(y, x)\n",
        "  }, division, seq(from = start, length.out = length(division))))\n",
        "\n",
        "  data[, (campo) := sample(rep(bloque, ceiling(.N / length(bloque))))[1:.N],\n",
        "    by = agrupa\n",
        "  ]\n",
        "}\n"
      ],
      "metadata": {
        "id": "Z1dchsrWH4MD"
      },
      "execution_count": 4,
      "outputs": []
    },
    {
      "cell_type": "code",
      "source": [
        "ArbolEstimarGanancia <- function(semilla, training_pct, param_basicos) {\n",
        "  # particiono estratificadamente el dataset\n",
        "  particionar(dataset,\n",
        "    division = c(training_pct, 100L -training_pct),\n",
        "    agrupa = \"clase_ternaria\",\n",
        "    seed = semilla # aqui se usa SU semilla\n",
        "  )\n",
        "\n",
        "  # genero el modelo\n",
        "  # predecir clase_ternaria a partir del resto\n",
        "  modelo <- rpart(\"clase_ternaria ~ .\",\n",
        "    data = dataset[fold == 1], # fold==1  es training,  el 70% de los datos\n",
        "    xval = 0,\n",
        "    control = param_basicos\n",
        "  ) # aqui van los parametros del arbol\n",
        "\n",
        "  # aplico el modelo a los datos de testing\n",
        "  prediccion <- predict(modelo, # el modelo que genere recien\n",
        "    dataset[fold == 2], # fold==2  es testing, el 30% de los datos\n",
        "    type = \"prob\"\n",
        "  ) # type= \"prob\"  es que devuelva la probabilidad\n",
        "\n",
        "  # prediccion es una matriz con TRES columnas,\n",
        "  #  llamadas \"BAJA+1\", \"BAJA+2\"  y \"CONTINUA\"\n",
        "  # cada columna es el vector de probabilidades\n",
        "\n",
        "\n",
        "  # calculo la ganancia en testing  qu es fold==2\n",
        "  ganancia_test <- dataset[\n",
        "    fold == 2,\n",
        "    sum(ifelse(prediccion[, \"BAJA+2\"] > 0.025,\n",
        "      ifelse(clase_ternaria == \"BAJA+2\", 117000, -3000),\n",
        "      0\n",
        "    ))\n",
        "  ]\n",
        "\n",
        "  # escalo la ganancia como si fuera todo el dataset\n",
        "  ganancia_test_normalizada <- ganancia_test / (( 100 - PARAM$training_pct ) / 100 )\n",
        "\n",
        "  return(\n",
        "    c( list(\"semilla\" = semilla),\n",
        "      param_basicos,\n",
        "      list( \"ganancia_test\" = ganancia_test_normalizada )\n",
        "     )\n",
        "  )\n",
        "}\n"
      ],
      "metadata": {
        "id": "xsHwS1CzIA70"
      },
      "execution_count": 5,
      "outputs": []
    },
    {
      "cell_type": "code",
      "source": [
        "ArbolesMontecarlo <- function(semillas, param_basicos) {\n",
        "\n",
        "  # la funcion mcmapply  llama a la funcion ArbolEstimarGanancia\n",
        "  #  tantas veces como valores tenga el vector  PARAM$semillas\n",
        "  salida <- mcmapply(ArbolEstimarGanancia,\n",
        "    semillas, # paso el vector de semillas\n",
        "    MoreArgs = list(PARAM$training_pct, param_basicos), # aqui paso el segundo parametro\n",
        "    SIMPLIFY = FALSE,\n",
        "    mc.cores = detectCores()\n",
        "  )\n",
        "\n",
        "  return(salida)\n",
        "}\n"
      ],
      "metadata": {
        "id": "BvBVOuhqIEjD"
      },
      "execution_count": 6,
      "outputs": []
    },
    {
      "cell_type": "code",
      "source": [
        "# carpeta de trabajo\n",
        "# por fabor cambiar numero de experimento si se cambia el loop principal\n",
        "setwd(\"/content/buckets/b1/exp\")\n",
        "experimento <- \"HT2902\"\n",
        "dir.create(experimento, showWarnings=FALSE)\n",
        "setwd( paste0(\"/content/buckets/b1/exp/\", experimento ))"
      ],
      "metadata": {
        "id": "L-DOGHOjIG7G",
        "outputId": "0cae4dd2-3e49-45fc-f029-ec0545238cce",
        "colab": {
          "base_uri": "https://localhost:8080/",
          "height": 228
        }
      },
      "execution_count": 7,
      "outputs": [
        {
          "output_type": "error",
          "ename": "ERROR",
          "evalue": "Error in setwd(\"/content/buckets/b1/exp\"): cannot change working directory\n",
          "traceback": [
            "Error in setwd(\"/content/buckets/b1/exp\"): cannot change working directory\nTraceback:\n",
            "1. .handleSimpleError(function (cnd) \n . {\n .     watcher$capture_plot_and_output()\n .     cnd <- sanitize_call(cnd)\n .     watcher$push(cnd)\n .     switch(on_error, continue = invokeRestart(\"eval_continue\"), \n .         stop = invokeRestart(\"eval_stop\"), error = NULL)\n . }, \"cannot change working directory\", base::quote(setwd(\"/content/buckets/b1/exp\")))"
          ]
        }
      ]
    },
    {
      "cell_type": "code",
      "source": [
        "# lectura del dataset\n",
        "dataset <- fread(\"/content/datasets/dataset_pequeno.csv\")\n",
        "\n",
        "# trabajo solo con los datos con clase, es decir 202107\n",
        "dataset <- dataset[clase_ternaria != \"\"]"
      ],
      "metadata": {
        "id": "NM-mrLWcIPo6"
      },
      "execution_count": null,
      "outputs": []
    },
    {
      "cell_type": "code",
      "source": [
        "\n",
        "# genero numeros primos\n",
        "primos <- generate_primes(min = 100000, max = 1000000)\n",
        "set.seed(PARAM$semilla_primigenia) # inicializo\n",
        "# me quedo con PARAM$qsemillas   semillas\n",
        "PARAM$semillas <- sample(primos, PARAM$qsemillas )\n"
      ],
      "metadata": {
        "id": "tSlY0EcgIWdi"
      },
      "execution_count": null,
      "outputs": []
    },
    {
      "cell_type": "code",
      "source": [
        "# genero la data.table donde van los resultados detallados del Grid Search\n",
        "# un registro para cada combinacion de < semilla, parametros >\n",
        "\n",
        "if(file.exists(\"gridsearch_detalle.txt\")){\n",
        "  tb_grid_search_detalle <- fread(\"gridsearch_detalle.txt\")\n",
        "}else{\n",
        "  tb_grid_search_detalle <- data.table(\n",
        "    semilla = integer(),\n",
        "    cp = numeric(),\n",
        "    maxdepth = integer(),\n",
        "   minsplit = integer(),\n",
        "    minbucket = integer(),\n",
        "    ganancia_test = numeric()\n",
        "  )\n",
        "}\n",
        "\n",
        "nrow( tb_grid_search_detalle )"
      ],
      "metadata": {
        "id": "xxCAwIKyIaTl",
        "colab": {
          "base_uri": "https://localhost:8080/",
          "height": 34
        },
        "outputId": "78e80dec-7860-451c-ac88-382edcd227ce"
      },
      "execution_count": null,
      "outputs": [
        {
          "output_type": "display_data",
          "data": {
            "text/html": [
              "0"
            ],
            "text/markdown": "0",
            "text/latex": "0",
            "text/plain": [
              "[1] 0"
            ]
          },
          "metadata": {}
        }
      ]
    },
    {
      "cell_type": "markdown",
      "source": [
        "Esta es la parte del código que usted debe expandir a TODOS los hiperparámetros de rpart,\n",
        "<br>ya que actualmente apenas recorre  maxdepth y  minsplit  dejando fijos  cp=-0.5  y minbucket=5"
      ],
      "metadata": {
        "id": "eAuGBNL8IkOD"
      }
    },
    {
      "cell_type": "code",
      "source": [
        "# itero por los loops anidados para cada hiperparametro\n",
        "iter <- 0\n",
        "\n",
        "for (vmax_depth in c(8.2,6,10,12)) {\n",
        "  for (vmin_split in c(1000, 800, 726, 600)) {\n",
        "    for (min_bucket in c (200, 171, 30, 42)) {\n",
        "      for (cp in c(-1, -0.51, -0.1)) {\n",
        "    # notar como se agrega\n",
        "\n",
        "    iter <- iter + 1\n",
        "    cat( iter, \" \" )\n",
        "    flush.console()\n",
        "    if( iter*PARAM$qsemillas < nrow(tb_grid_search_detalle)+1 ) next\n",
        "\n",
        "    # vminsplit  minima cantidad de registros en un nodo para hacer el split\n",
        "    param_basicos <- list(\n",
        "      \"cp\" = cp , # complejidad minima\n",
        "      \"maxdepth\" = vmax_depth, # profundidad máxima del arbol\n",
        "      \"minsplit\" = vmin_split, # tamaño minimo de nodo para hacer split\n",
        "      \"minbucket\" = min_bucket # minima cantidad de registros en una hoja\n",
        "    )\n",
        "\n",
        "    # Un solo llamado, con la semilla 17\n",
        "    ganancias <- ArbolesMontecarlo(PARAM$semillas, param_basicos)\n",
        "\n",
        "    # agrego a la tabla\n",
        "    tb_grid_search_detalle <- rbindlist(\n",
        "      list( tb_grid_search_detalle,\n",
        "            rbindlist(ganancias) )\n",
        "    )\n",
        "\n",
        "  }\n",
        "\n",
        "  # grabo cada vez TODA la tabla en el loop mas externo\n",
        "  fwrite( tb_grid_search_detalle,\n",
        "          file = \"gridsearch_detalle.txt\",\n",
        "          sep = \"\\t\" )\n",
        "    }\n",
        "  }\n",
        "}"
      ],
      "metadata": {
        "id": "ipLHm3STIfmb",
        "colab": {
          "base_uri": "https://localhost:8080/"
        },
        "outputId": "d4e2e518-e692-44c3-c0c0-6dd76fc52c82"
      },
      "execution_count": null,
      "outputs": [
        {
          "output_type": "stream",
          "name": "stdout",
          "text": [
            "1  2  3  4  5  6  7  8  9  10  11  12  13  14  15  16  17  18  19  20  21  22  23  24  25  26  27  28  29  30  31  32  33  34  35  36  37  38  39  40  41  42  43  44  45  46  47  48  49  50  51  52  53  54  55  56  57  58  59  60  61  62  63  64  65  66  67  68  69  70  71  72  73  74  75  76  77  78  79  80  81  82  83  84  85  86  87  88  89  90  91  92  93  94  95  96  97  98  99  100  101  102  103  104  105  106  107  108  109  110  111  112  113  114  115  116  117  118  119  120  121  122  123  124  125  126  127  128  129  130  131  132  133  134  135  136  137  138  139  "
          ]
        }
      ]
    },
    {
      "cell_type": "code",
      "source": [
        "fwrite( tb_grid_search_detalle,\n",
        "   file = \"gridsearch_detalle.txt\",\n",
        "   sep = \"\\t\"\n",
        ")"
      ],
      "metadata": {
        "id": "WZaSqYBxiDFu"
      },
      "execution_count": null,
      "outputs": []
    },
    {
      "cell_type": "code",
      "source": [
        "# cantidad de registros de la tabla\n",
        "nrow(tb_grid_search_detalle)"
      ],
      "metadata": {
        "id": "STp0duM-RYVJ",
        "outputId": "c213b85e-7ac2-4bdf-9e7c-a657a7eb2df9",
        "colab": {
          "base_uri": "https://localhost:8080/",
          "height": 34
        }
      },
      "execution_count": null,
      "outputs": [
        {
          "output_type": "display_data",
          "data": {
            "text/html": [
              "81"
            ],
            "text/markdown": "81",
            "text/latex": "81",
            "text/plain": [
              "[1] 81"
            ]
          },
          "metadata": {}
        }
      ]
    },
    {
      "cell_type": "code",
      "source": [
        "# muestro la tabla\n",
        "tb_grid_search_detalle"
      ],
      "metadata": {
        "id": "k7fhk_H0iNez",
        "outputId": "6b11803b-a441-4739-fc2e-88a95cf3ff42",
        "colab": {
          "base_uri": "https://localhost:8080/",
          "height": 1000
        }
      },
      "execution_count": null,
      "outputs": [
        {
          "output_type": "display_data",
          "data": {
            "text/html": [
              "<table class=\"dataframe\">\n",
              "<caption>A data.table: 81 × 6</caption>\n",
              "<thead>\n",
              "\t<tr><th scope=col>semilla</th><th scope=col>cp</th><th scope=col>maxdepth</th><th scope=col>minsplit</th><th scope=col>minbucket</th><th scope=col>ganancia_test</th></tr>\n",
              "\t<tr><th scope=col>&lt;int&gt;</th><th scope=col>&lt;dbl&gt;</th><th scope=col>&lt;dbl&gt;</th><th scope=col>&lt;dbl&gt;</th><th scope=col>&lt;dbl&gt;</th><th scope=col>&lt;dbl&gt;</th></tr>\n",
              "</thead>\n",
              "<tbody>\n",
              "\t<tr><td>786829</td><td>-1.00</td><td>8.2</td><td>1000</td><td>200</td><td>50570000</td></tr>\n",
              "\t<tr><td>786829</td><td>-0.51</td><td>8.2</td><td>1000</td><td>200</td><td>50570000</td></tr>\n",
              "\t<tr><td>786829</td><td>-0.10</td><td>8.2</td><td>1000</td><td>200</td><td>50570000</td></tr>\n",
              "\t<tr><td>786829</td><td>-1.00</td><td>8.2</td><td>1000</td><td>171</td><td>48730000</td></tr>\n",
              "\t<tr><td>786829</td><td>-0.51</td><td>8.2</td><td>1000</td><td>171</td><td>48730000</td></tr>\n",
              "\t<tr><td>786829</td><td>-0.10</td><td>8.2</td><td>1000</td><td>171</td><td>48730000</td></tr>\n",
              "\t<tr><td>786829</td><td>-1.00</td><td>8.2</td><td>1000</td><td> 30</td><td>51070000</td></tr>\n",
              "\t<tr><td>786829</td><td>-0.51</td><td>8.2</td><td>1000</td><td> 30</td><td>51070000</td></tr>\n",
              "\t<tr><td>786829</td><td>-0.10</td><td>8.2</td><td>1000</td><td> 30</td><td>51070000</td></tr>\n",
              "\t<tr><td>786829</td><td>-1.00</td><td>8.2</td><td> 800</td><td>200</td><td>51200000</td></tr>\n",
              "\t<tr><td>786829</td><td>-0.51</td><td>8.2</td><td> 800</td><td>200</td><td>51200000</td></tr>\n",
              "\t<tr><td>786829</td><td>-0.10</td><td>8.2</td><td> 800</td><td>200</td><td>51200000</td></tr>\n",
              "\t<tr><td>786829</td><td>-1.00</td><td>8.2</td><td> 800</td><td>171</td><td>49270000</td></tr>\n",
              "\t<tr><td>786829</td><td>-0.51</td><td>8.2</td><td> 800</td><td>171</td><td>49270000</td></tr>\n",
              "\t<tr><td>786829</td><td>-0.10</td><td>8.2</td><td> 800</td><td>171</td><td>49270000</td></tr>\n",
              "\t<tr><td>786829</td><td>-1.00</td><td>8.2</td><td> 800</td><td> 30</td><td>51240000</td></tr>\n",
              "\t<tr><td>786829</td><td>-0.51</td><td>8.2</td><td> 800</td><td> 30</td><td>51240000</td></tr>\n",
              "\t<tr><td>786829</td><td>-0.10</td><td>8.2</td><td> 800</td><td> 30</td><td>51240000</td></tr>\n",
              "\t<tr><td>786829</td><td>-1.00</td><td>8.2</td><td> 726</td><td>200</td><td>49850000</td></tr>\n",
              "\t<tr><td>786829</td><td>-0.51</td><td>8.2</td><td> 726</td><td>200</td><td>49850000</td></tr>\n",
              "\t<tr><td>786829</td><td>-0.10</td><td>8.2</td><td> 726</td><td>200</td><td>49850000</td></tr>\n",
              "\t<tr><td>786829</td><td>-1.00</td><td>8.2</td><td> 726</td><td>171</td><td>47710000</td></tr>\n",
              "\t<tr><td>786829</td><td>-0.51</td><td>8.2</td><td> 726</td><td>171</td><td>47710000</td></tr>\n",
              "\t<tr><td>786829</td><td>-0.10</td><td>8.2</td><td> 726</td><td>171</td><td>47710000</td></tr>\n",
              "\t<tr><td>786829</td><td>-1.00</td><td>8.2</td><td> 726</td><td> 30</td><td>51000000</td></tr>\n",
              "\t<tr><td>786829</td><td>-0.51</td><td>8.2</td><td> 726</td><td> 30</td><td>51000000</td></tr>\n",
              "\t<tr><td>786829</td><td>-0.10</td><td>8.2</td><td> 726</td><td> 30</td><td>51000000</td></tr>\n",
              "\t<tr><td>786829</td><td>-1.00</td><td>6.0</td><td>1000</td><td>200</td><td>50540000</td></tr>\n",
              "\t<tr><td>786829</td><td>-0.51</td><td>6.0</td><td>1000</td><td>200</td><td>50540000</td></tr>\n",
              "\t<tr><td>786829</td><td>-0.10</td><td>6.0</td><td>1000</td><td>200</td><td>50540000</td></tr>\n",
              "\t<tr><td>⋮</td><td>⋮</td><td>⋮</td><td>⋮</td><td>⋮</td><td>⋮</td></tr>\n",
              "\t<tr><td>786829</td><td>-1.00</td><td> 6</td><td> 726</td><td> 30</td><td>47810000</td></tr>\n",
              "\t<tr><td>786829</td><td>-0.51</td><td> 6</td><td> 726</td><td> 30</td><td>47810000</td></tr>\n",
              "\t<tr><td>786829</td><td>-0.10</td><td> 6</td><td> 726</td><td> 30</td><td>47810000</td></tr>\n",
              "\t<tr><td>786829</td><td>-1.00</td><td>10</td><td>1000</td><td>200</td><td>50900000</td></tr>\n",
              "\t<tr><td>786829</td><td>-0.51</td><td>10</td><td>1000</td><td>200</td><td>50900000</td></tr>\n",
              "\t<tr><td>786829</td><td>-0.10</td><td>10</td><td>1000</td><td>200</td><td>50900000</td></tr>\n",
              "\t<tr><td>786829</td><td>-1.00</td><td>10</td><td>1000</td><td>171</td><td>48730000</td></tr>\n",
              "\t<tr><td>786829</td><td>-0.51</td><td>10</td><td>1000</td><td>171</td><td>48730000</td></tr>\n",
              "\t<tr><td>786829</td><td>-0.10</td><td>10</td><td>1000</td><td>171</td><td>48730000</td></tr>\n",
              "\t<tr><td>786829</td><td>-1.00</td><td>10</td><td>1000</td><td> 30</td><td>47750000</td></tr>\n",
              "\t<tr><td>786829</td><td>-0.51</td><td>10</td><td>1000</td><td> 30</td><td>47750000</td></tr>\n",
              "\t<tr><td>786829</td><td>-0.10</td><td>10</td><td>1000</td><td> 30</td><td>47750000</td></tr>\n",
              "\t<tr><td>786829</td><td>-1.00</td><td>10</td><td> 800</td><td>200</td><td>50110000</td></tr>\n",
              "\t<tr><td>786829</td><td>-0.51</td><td>10</td><td> 800</td><td>200</td><td>50110000</td></tr>\n",
              "\t<tr><td>786829</td><td>-0.10</td><td>10</td><td> 800</td><td>200</td><td>50110000</td></tr>\n",
              "\t<tr><td>786829</td><td>-1.00</td><td>10</td><td> 800</td><td>171</td><td>47850000</td></tr>\n",
              "\t<tr><td>786829</td><td>-0.51</td><td>10</td><td> 800</td><td>171</td><td>47850000</td></tr>\n",
              "\t<tr><td>786829</td><td>-0.10</td><td>10</td><td> 800</td><td>171</td><td>47850000</td></tr>\n",
              "\t<tr><td>786829</td><td>-1.00</td><td>10</td><td> 800</td><td> 30</td><td>48200000</td></tr>\n",
              "\t<tr><td>786829</td><td>-0.51</td><td>10</td><td> 800</td><td> 30</td><td>48200000</td></tr>\n",
              "\t<tr><td>786829</td><td>-0.10</td><td>10</td><td> 800</td><td> 30</td><td>48200000</td></tr>\n",
              "\t<tr><td>786829</td><td>-1.00</td><td>10</td><td> 726</td><td>200</td><td>48760000</td></tr>\n",
              "\t<tr><td>786829</td><td>-0.51</td><td>10</td><td> 726</td><td>200</td><td>48760000</td></tr>\n",
              "\t<tr><td>786829</td><td>-0.10</td><td>10</td><td> 726</td><td>200</td><td>48760000</td></tr>\n",
              "\t<tr><td>786829</td><td>-1.00</td><td>10</td><td> 726</td><td>171</td><td>46290000</td></tr>\n",
              "\t<tr><td>786829</td><td>-0.51</td><td>10</td><td> 726</td><td>171</td><td>46290000</td></tr>\n",
              "\t<tr><td>786829</td><td>-0.10</td><td>10</td><td> 726</td><td>171</td><td>46290000</td></tr>\n",
              "\t<tr><td>786829</td><td>-1.00</td><td>10</td><td> 726</td><td> 30</td><td>47890000</td></tr>\n",
              "\t<tr><td>786829</td><td>-0.51</td><td>10</td><td> 726</td><td> 30</td><td>47890000</td></tr>\n",
              "\t<tr><td>786829</td><td>-0.10</td><td>10</td><td> 726</td><td> 30</td><td>47890000</td></tr>\n",
              "</tbody>\n",
              "</table>\n"
            ],
            "text/markdown": "\nA data.table: 81 × 6\n\n| semilla &lt;int&gt; | cp &lt;dbl&gt; | maxdepth &lt;dbl&gt; | minsplit &lt;dbl&gt; | minbucket &lt;dbl&gt; | ganancia_test &lt;dbl&gt; |\n|---|---|---|---|---|---|\n| 786829 | -1.00 | 8.2 | 1000 | 200 | 50570000 |\n| 786829 | -0.51 | 8.2 | 1000 | 200 | 50570000 |\n| 786829 | -0.10 | 8.2 | 1000 | 200 | 50570000 |\n| 786829 | -1.00 | 8.2 | 1000 | 171 | 48730000 |\n| 786829 | -0.51 | 8.2 | 1000 | 171 | 48730000 |\n| 786829 | -0.10 | 8.2 | 1000 | 171 | 48730000 |\n| 786829 | -1.00 | 8.2 | 1000 |  30 | 51070000 |\n| 786829 | -0.51 | 8.2 | 1000 |  30 | 51070000 |\n| 786829 | -0.10 | 8.2 | 1000 |  30 | 51070000 |\n| 786829 | -1.00 | 8.2 |  800 | 200 | 51200000 |\n| 786829 | -0.51 | 8.2 |  800 | 200 | 51200000 |\n| 786829 | -0.10 | 8.2 |  800 | 200 | 51200000 |\n| 786829 | -1.00 | 8.2 |  800 | 171 | 49270000 |\n| 786829 | -0.51 | 8.2 |  800 | 171 | 49270000 |\n| 786829 | -0.10 | 8.2 |  800 | 171 | 49270000 |\n| 786829 | -1.00 | 8.2 |  800 |  30 | 51240000 |\n| 786829 | -0.51 | 8.2 |  800 |  30 | 51240000 |\n| 786829 | -0.10 | 8.2 |  800 |  30 | 51240000 |\n| 786829 | -1.00 | 8.2 |  726 | 200 | 49850000 |\n| 786829 | -0.51 | 8.2 |  726 | 200 | 49850000 |\n| 786829 | -0.10 | 8.2 |  726 | 200 | 49850000 |\n| 786829 | -1.00 | 8.2 |  726 | 171 | 47710000 |\n| 786829 | -0.51 | 8.2 |  726 | 171 | 47710000 |\n| 786829 | -0.10 | 8.2 |  726 | 171 | 47710000 |\n| 786829 | -1.00 | 8.2 |  726 |  30 | 51000000 |\n| 786829 | -0.51 | 8.2 |  726 |  30 | 51000000 |\n| 786829 | -0.10 | 8.2 |  726 |  30 | 51000000 |\n| 786829 | -1.00 | 6.0 | 1000 | 200 | 50540000 |\n| 786829 | -0.51 | 6.0 | 1000 | 200 | 50540000 |\n| 786829 | -0.10 | 6.0 | 1000 | 200 | 50540000 |\n| ⋮ | ⋮ | ⋮ | ⋮ | ⋮ | ⋮ |\n| 786829 | -1.00 |  6 |  726 |  30 | 47810000 |\n| 786829 | -0.51 |  6 |  726 |  30 | 47810000 |\n| 786829 | -0.10 |  6 |  726 |  30 | 47810000 |\n| 786829 | -1.00 | 10 | 1000 | 200 | 50900000 |\n| 786829 | -0.51 | 10 | 1000 | 200 | 50900000 |\n| 786829 | -0.10 | 10 | 1000 | 200 | 50900000 |\n| 786829 | -1.00 | 10 | 1000 | 171 | 48730000 |\n| 786829 | -0.51 | 10 | 1000 | 171 | 48730000 |\n| 786829 | -0.10 | 10 | 1000 | 171 | 48730000 |\n| 786829 | -1.00 | 10 | 1000 |  30 | 47750000 |\n| 786829 | -0.51 | 10 | 1000 |  30 | 47750000 |\n| 786829 | -0.10 | 10 | 1000 |  30 | 47750000 |\n| 786829 | -1.00 | 10 |  800 | 200 | 50110000 |\n| 786829 | -0.51 | 10 |  800 | 200 | 50110000 |\n| 786829 | -0.10 | 10 |  800 | 200 | 50110000 |\n| 786829 | -1.00 | 10 |  800 | 171 | 47850000 |\n| 786829 | -0.51 | 10 |  800 | 171 | 47850000 |\n| 786829 | -0.10 | 10 |  800 | 171 | 47850000 |\n| 786829 | -1.00 | 10 |  800 |  30 | 48200000 |\n| 786829 | -0.51 | 10 |  800 |  30 | 48200000 |\n| 786829 | -0.10 | 10 |  800 |  30 | 48200000 |\n| 786829 | -1.00 | 10 |  726 | 200 | 48760000 |\n| 786829 | -0.51 | 10 |  726 | 200 | 48760000 |\n| 786829 | -0.10 | 10 |  726 | 200 | 48760000 |\n| 786829 | -1.00 | 10 |  726 | 171 | 46290000 |\n| 786829 | -0.51 | 10 |  726 | 171 | 46290000 |\n| 786829 | -0.10 | 10 |  726 | 171 | 46290000 |\n| 786829 | -1.00 | 10 |  726 |  30 | 47890000 |\n| 786829 | -0.51 | 10 |  726 |  30 | 47890000 |\n| 786829 | -0.10 | 10 |  726 |  30 | 47890000 |\n\n",
            "text/latex": "A data.table: 81 × 6\n\\begin{tabular}{llllll}\n semilla & cp & maxdepth & minsplit & minbucket & ganancia\\_test\\\\\n <int> & <dbl> & <dbl> & <dbl> & <dbl> & <dbl>\\\\\n\\hline\n\t 786829 & -1.00 & 8.2 & 1000 & 200 & 50570000\\\\\n\t 786829 & -0.51 & 8.2 & 1000 & 200 & 50570000\\\\\n\t 786829 & -0.10 & 8.2 & 1000 & 200 & 50570000\\\\\n\t 786829 & -1.00 & 8.2 & 1000 & 171 & 48730000\\\\\n\t 786829 & -0.51 & 8.2 & 1000 & 171 & 48730000\\\\\n\t 786829 & -0.10 & 8.2 & 1000 & 171 & 48730000\\\\\n\t 786829 & -1.00 & 8.2 & 1000 &  30 & 51070000\\\\\n\t 786829 & -0.51 & 8.2 & 1000 &  30 & 51070000\\\\\n\t 786829 & -0.10 & 8.2 & 1000 &  30 & 51070000\\\\\n\t 786829 & -1.00 & 8.2 &  800 & 200 & 51200000\\\\\n\t 786829 & -0.51 & 8.2 &  800 & 200 & 51200000\\\\\n\t 786829 & -0.10 & 8.2 &  800 & 200 & 51200000\\\\\n\t 786829 & -1.00 & 8.2 &  800 & 171 & 49270000\\\\\n\t 786829 & -0.51 & 8.2 &  800 & 171 & 49270000\\\\\n\t 786829 & -0.10 & 8.2 &  800 & 171 & 49270000\\\\\n\t 786829 & -1.00 & 8.2 &  800 &  30 & 51240000\\\\\n\t 786829 & -0.51 & 8.2 &  800 &  30 & 51240000\\\\\n\t 786829 & -0.10 & 8.2 &  800 &  30 & 51240000\\\\\n\t 786829 & -1.00 & 8.2 &  726 & 200 & 49850000\\\\\n\t 786829 & -0.51 & 8.2 &  726 & 200 & 49850000\\\\\n\t 786829 & -0.10 & 8.2 &  726 & 200 & 49850000\\\\\n\t 786829 & -1.00 & 8.2 &  726 & 171 & 47710000\\\\\n\t 786829 & -0.51 & 8.2 &  726 & 171 & 47710000\\\\\n\t 786829 & -0.10 & 8.2 &  726 & 171 & 47710000\\\\\n\t 786829 & -1.00 & 8.2 &  726 &  30 & 51000000\\\\\n\t 786829 & -0.51 & 8.2 &  726 &  30 & 51000000\\\\\n\t 786829 & -0.10 & 8.2 &  726 &  30 & 51000000\\\\\n\t 786829 & -1.00 & 6.0 & 1000 & 200 & 50540000\\\\\n\t 786829 & -0.51 & 6.0 & 1000 & 200 & 50540000\\\\\n\t 786829 & -0.10 & 6.0 & 1000 & 200 & 50540000\\\\\n\t ⋮ & ⋮ & ⋮ & ⋮ & ⋮ & ⋮\\\\\n\t 786829 & -1.00 &  6 &  726 &  30 & 47810000\\\\\n\t 786829 & -0.51 &  6 &  726 &  30 & 47810000\\\\\n\t 786829 & -0.10 &  6 &  726 &  30 & 47810000\\\\\n\t 786829 & -1.00 & 10 & 1000 & 200 & 50900000\\\\\n\t 786829 & -0.51 & 10 & 1000 & 200 & 50900000\\\\\n\t 786829 & -0.10 & 10 & 1000 & 200 & 50900000\\\\\n\t 786829 & -1.00 & 10 & 1000 & 171 & 48730000\\\\\n\t 786829 & -0.51 & 10 & 1000 & 171 & 48730000\\\\\n\t 786829 & -0.10 & 10 & 1000 & 171 & 48730000\\\\\n\t 786829 & -1.00 & 10 & 1000 &  30 & 47750000\\\\\n\t 786829 & -0.51 & 10 & 1000 &  30 & 47750000\\\\\n\t 786829 & -0.10 & 10 & 1000 &  30 & 47750000\\\\\n\t 786829 & -1.00 & 10 &  800 & 200 & 50110000\\\\\n\t 786829 & -0.51 & 10 &  800 & 200 & 50110000\\\\\n\t 786829 & -0.10 & 10 &  800 & 200 & 50110000\\\\\n\t 786829 & -1.00 & 10 &  800 & 171 & 47850000\\\\\n\t 786829 & -0.51 & 10 &  800 & 171 & 47850000\\\\\n\t 786829 & -0.10 & 10 &  800 & 171 & 47850000\\\\\n\t 786829 & -1.00 & 10 &  800 &  30 & 48200000\\\\\n\t 786829 & -0.51 & 10 &  800 &  30 & 48200000\\\\\n\t 786829 & -0.10 & 10 &  800 &  30 & 48200000\\\\\n\t 786829 & -1.00 & 10 &  726 & 200 & 48760000\\\\\n\t 786829 & -0.51 & 10 &  726 & 200 & 48760000\\\\\n\t 786829 & -0.10 & 10 &  726 & 200 & 48760000\\\\\n\t 786829 & -1.00 & 10 &  726 & 171 & 46290000\\\\\n\t 786829 & -0.51 & 10 &  726 & 171 & 46290000\\\\\n\t 786829 & -0.10 & 10 &  726 & 171 & 46290000\\\\\n\t 786829 & -1.00 & 10 &  726 &  30 & 47890000\\\\\n\t 786829 & -0.51 & 10 &  726 &  30 & 47890000\\\\\n\t 786829 & -0.10 & 10 &  726 &  30 & 47890000\\\\\n\\end{tabular}\n",
            "text/plain": [
              "   semilla cp    maxdepth minsplit minbucket ganancia_test\n",
              "1  786829  -1.00 8.2      1000     200       50570000     \n",
              "2  786829  -0.51 8.2      1000     200       50570000     \n",
              "3  786829  -0.10 8.2      1000     200       50570000     \n",
              "4  786829  -1.00 8.2      1000     171       48730000     \n",
              "5  786829  -0.51 8.2      1000     171       48730000     \n",
              "6  786829  -0.10 8.2      1000     171       48730000     \n",
              "7  786829  -1.00 8.2      1000      30       51070000     \n",
              "8  786829  -0.51 8.2      1000      30       51070000     \n",
              "9  786829  -0.10 8.2      1000      30       51070000     \n",
              "10 786829  -1.00 8.2       800     200       51200000     \n",
              "11 786829  -0.51 8.2       800     200       51200000     \n",
              "12 786829  -0.10 8.2       800     200       51200000     \n",
              "13 786829  -1.00 8.2       800     171       49270000     \n",
              "14 786829  -0.51 8.2       800     171       49270000     \n",
              "15 786829  -0.10 8.2       800     171       49270000     \n",
              "16 786829  -1.00 8.2       800      30       51240000     \n",
              "17 786829  -0.51 8.2       800      30       51240000     \n",
              "18 786829  -0.10 8.2       800      30       51240000     \n",
              "19 786829  -1.00 8.2       726     200       49850000     \n",
              "20 786829  -0.51 8.2       726     200       49850000     \n",
              "21 786829  -0.10 8.2       726     200       49850000     \n",
              "22 786829  -1.00 8.2       726     171       47710000     \n",
              "23 786829  -0.51 8.2       726     171       47710000     \n",
              "24 786829  -0.10 8.2       726     171       47710000     \n",
              "25 786829  -1.00 8.2       726      30       51000000     \n",
              "26 786829  -0.51 8.2       726      30       51000000     \n",
              "27 786829  -0.10 8.2       726      30       51000000     \n",
              "28 786829  -1.00 6.0      1000     200       50540000     \n",
              "29 786829  -0.51 6.0      1000     200       50540000     \n",
              "30 786829  -0.10 6.0      1000     200       50540000     \n",
              "⋮  ⋮       ⋮     ⋮        ⋮        ⋮         ⋮            \n",
              "52 786829  -1.00  6        726      30       47810000     \n",
              "53 786829  -0.51  6        726      30       47810000     \n",
              "54 786829  -0.10  6        726      30       47810000     \n",
              "55 786829  -1.00 10       1000     200       50900000     \n",
              "56 786829  -0.51 10       1000     200       50900000     \n",
              "57 786829  -0.10 10       1000     200       50900000     \n",
              "58 786829  -1.00 10       1000     171       48730000     \n",
              "59 786829  -0.51 10       1000     171       48730000     \n",
              "60 786829  -0.10 10       1000     171       48730000     \n",
              "61 786829  -1.00 10       1000      30       47750000     \n",
              "62 786829  -0.51 10       1000      30       47750000     \n",
              "63 786829  -0.10 10       1000      30       47750000     \n",
              "64 786829  -1.00 10        800     200       50110000     \n",
              "65 786829  -0.51 10        800     200       50110000     \n",
              "66 786829  -0.10 10        800     200       50110000     \n",
              "67 786829  -1.00 10        800     171       47850000     \n",
              "68 786829  -0.51 10        800     171       47850000     \n",
              "69 786829  -0.10 10        800     171       47850000     \n",
              "70 786829  -1.00 10        800      30       48200000     \n",
              "71 786829  -0.51 10        800      30       48200000     \n",
              "72 786829  -0.10 10        800      30       48200000     \n",
              "73 786829  -1.00 10        726     200       48760000     \n",
              "74 786829  -0.51 10        726     200       48760000     \n",
              "75 786829  -0.10 10        726     200       48760000     \n",
              "76 786829  -1.00 10        726     171       46290000     \n",
              "77 786829  -0.51 10        726     171       46290000     \n",
              "78 786829  -0.10 10        726     171       46290000     \n",
              "79 786829  -1.00 10        726      30       47890000     \n",
              "80 786829  -0.51 10        726      30       47890000     \n",
              "81 786829  -0.10 10        726      30       47890000     "
            ]
          },
          "metadata": {}
        }
      ]
    },
    {
      "cell_type": "code",
      "source": [
        "# genero y grabo el resumen\n",
        "tb_grid_search <- tb_grid_search_detalle[,\n",
        "  list( \"ganancia_mean\" = mean(ganancia_test),\n",
        "    \"qty\" = .N ),\n",
        "  list( cp, maxdepth, minsplit, minbucket )\n",
        "]\n"
      ],
      "metadata": {
        "id": "DjCxtx8bIsgl"
      },
      "execution_count": null,
      "outputs": []
    },
    {
      "cell_type": "code",
      "source": [
        "# ordeno descendente por ganancia\n",
        "setorder( tb_grid_search, -ganancia_mean )\n"
      ],
      "metadata": {
        "id": "LU29UhL1Ivg5"
      },
      "execution_count": null,
      "outputs": []
    },
    {
      "cell_type": "code",
      "source": [
        "# veo los 10 mejores hiperparámetros\n",
        "tb_grid_search[1:10]"
      ],
      "metadata": {
        "id": "g-EjGY7aIyWL",
        "outputId": "1deff42e-c496-4f70-eb39-8c8d34ecc0ea",
        "colab": {
          "base_uri": "https://localhost:8080/",
          "height": 412
        }
      },
      "execution_count": null,
      "outputs": [
        {
          "output_type": "display_data",
          "data": {
            "text/html": [
              "<table class=\"dataframe\">\n",
              "<caption>A data.table: 10 × 6</caption>\n",
              "<thead>\n",
              "\t<tr><th scope=col>cp</th><th scope=col>maxdepth</th><th scope=col>minsplit</th><th scope=col>minbucket</th><th scope=col>ganancia_mean</th><th scope=col>qty</th></tr>\n",
              "\t<tr><th scope=col>&lt;dbl&gt;</th><th scope=col>&lt;dbl&gt;</th><th scope=col>&lt;dbl&gt;</th><th scope=col>&lt;dbl&gt;</th><th scope=col>&lt;dbl&gt;</th><th scope=col>&lt;int&gt;</th></tr>\n",
              "</thead>\n",
              "<tbody>\n",
              "\t<tr><td>-1.00</td><td>6.0</td><td>800</td><td>200</td><td>51500000</td><td>1</td></tr>\n",
              "\t<tr><td>-0.51</td><td>6.0</td><td>800</td><td>200</td><td>51500000</td><td>1</td></tr>\n",
              "\t<tr><td>-0.10</td><td>6.0</td><td>800</td><td>200</td><td>51500000</td><td>1</td></tr>\n",
              "\t<tr><td>-1.00</td><td>6.0</td><td>726</td><td>200</td><td>51500000</td><td>1</td></tr>\n",
              "\t<tr><td>-0.51</td><td>6.0</td><td>726</td><td>200</td><td>51500000</td><td>1</td></tr>\n",
              "\t<tr><td>-0.10</td><td>6.0</td><td>726</td><td>200</td><td>51500000</td><td>1</td></tr>\n",
              "\t<tr><td>-1.00</td><td>8.2</td><td>800</td><td> 30</td><td>51240000</td><td>1</td></tr>\n",
              "\t<tr><td>-0.51</td><td>8.2</td><td>800</td><td> 30</td><td>51240000</td><td>1</td></tr>\n",
              "\t<tr><td>-0.10</td><td>8.2</td><td>800</td><td> 30</td><td>51240000</td><td>1</td></tr>\n",
              "\t<tr><td>-1.00</td><td>8.2</td><td>800</td><td>200</td><td>51200000</td><td>1</td></tr>\n",
              "</tbody>\n",
              "</table>\n"
            ],
            "text/markdown": "\nA data.table: 10 × 6\n\n| cp &lt;dbl&gt; | maxdepth &lt;dbl&gt; | minsplit &lt;dbl&gt; | minbucket &lt;dbl&gt; | ganancia_mean &lt;dbl&gt; | qty &lt;int&gt; |\n|---|---|---|---|---|---|\n| -1.00 | 6.0 | 800 | 200 | 51500000 | 1 |\n| -0.51 | 6.0 | 800 | 200 | 51500000 | 1 |\n| -0.10 | 6.0 | 800 | 200 | 51500000 | 1 |\n| -1.00 | 6.0 | 726 | 200 | 51500000 | 1 |\n| -0.51 | 6.0 | 726 | 200 | 51500000 | 1 |\n| -0.10 | 6.0 | 726 | 200 | 51500000 | 1 |\n| -1.00 | 8.2 | 800 |  30 | 51240000 | 1 |\n| -0.51 | 8.2 | 800 |  30 | 51240000 | 1 |\n| -0.10 | 8.2 | 800 |  30 | 51240000 | 1 |\n| -1.00 | 8.2 | 800 | 200 | 51200000 | 1 |\n\n",
            "text/latex": "A data.table: 10 × 6\n\\begin{tabular}{llllll}\n cp & maxdepth & minsplit & minbucket & ganancia\\_mean & qty\\\\\n <dbl> & <dbl> & <dbl> & <dbl> & <dbl> & <int>\\\\\n\\hline\n\t -1.00 & 6.0 & 800 & 200 & 51500000 & 1\\\\\n\t -0.51 & 6.0 & 800 & 200 & 51500000 & 1\\\\\n\t -0.10 & 6.0 & 800 & 200 & 51500000 & 1\\\\\n\t -1.00 & 6.0 & 726 & 200 & 51500000 & 1\\\\\n\t -0.51 & 6.0 & 726 & 200 & 51500000 & 1\\\\\n\t -0.10 & 6.0 & 726 & 200 & 51500000 & 1\\\\\n\t -1.00 & 8.2 & 800 &  30 & 51240000 & 1\\\\\n\t -0.51 & 8.2 & 800 &  30 & 51240000 & 1\\\\\n\t -0.10 & 8.2 & 800 &  30 & 51240000 & 1\\\\\n\t -1.00 & 8.2 & 800 & 200 & 51200000 & 1\\\\\n\\end{tabular}\n",
            "text/plain": [
              "   cp    maxdepth minsplit minbucket ganancia_mean qty\n",
              "1  -1.00 6.0      800      200       51500000      1  \n",
              "2  -0.51 6.0      800      200       51500000      1  \n",
              "3  -0.10 6.0      800      200       51500000      1  \n",
              "4  -1.00 6.0      726      200       51500000      1  \n",
              "5  -0.51 6.0      726      200       51500000      1  \n",
              "6  -0.10 6.0      726      200       51500000      1  \n",
              "7  -1.00 8.2      800       30       51240000      1  \n",
              "8  -0.51 8.2      800       30       51240000      1  \n",
              "9  -0.10 8.2      800       30       51240000      1  \n",
              "10 -1.00 8.2      800      200       51200000      1  "
            ]
          },
          "metadata": {}
        }
      ]
    },
    {
      "cell_type": "code",
      "source": [
        "# genero un id a la tabla\n",
        "tb_grid_search[, id := .I ]\n",
        "\n",
        "fwrite( tb_grid_search,\n",
        "  file = \"gridsearch.txt\",\n",
        "  sep = \"\\t\"\n",
        ")\n"
      ],
      "metadata": {
        "id": "K3S-I2PTI5ZE"
      },
      "execution_count": null,
      "outputs": []
    },
    {
      "cell_type": "markdown",
      "source": [
        "# 4.  Análisis de resultados de Grid Search"
      ],
      "metadata": {
        "id": "1rYHk1YkI_9k"
      }
    },
    {
      "cell_type": "markdown",
      "source": [
        "La salida de la corrida anterior queda en ~/buckets/b1/exp/HT2900  que corresponde a su Google Drive\n",
        "<br>HT significa Hyperparameter Tuning\n",
        "<br>El Grid Search es un método de fuerza bruta de un altísimo costo computacional.\n",
        "<br>Queremos ver si es posible crear un algoritmo de optimización de hiperparámetros que se ahorre recorrer ciertas porciones muy malas del espacio de búsqueda. Algo del estilo “cada vez que pruebo una combinación de hiperparámetros donde  cp > 1 , la ganancia es muy mala, con lo cual ni vale la pena perder el tiempo explorando en esa region”\n"
      ],
      "metadata": {
        "id": "ZTJgPhMWJHTk"
      }
    },
    {
      "cell_type": "markdown",
      "source": [
        "<br>Levante el archivo de salida gridsearch.txt  a una planilla tipo Excel y analícelo detenidamente\n",
        "<br>Ordene por ganancia_mean descendente\n",
        "<br>\n",
        "<br>El de mayor ganancia_mean  decimos que es el primero del ranking\n",
        "En Zulip, correspondiente channel  #Tarea Hogar 02 , topic Analisis Grid Search   intente contestar estas preguntas:\n",
        "\n",
        "* ¿Qué combinaciones de hiperparámetros poseen una ganancia muy buena?\n",
        "* ¿Hay algun hiperparámetro que para cierto valor siempre genera una ganancia muy mala, a independientemente de lo que valgan los otros hiperparámetros ?\n",
        "* ¿Que combinaciones de hiperparámetros es pésima y hubiera sido bueno ahorrarse esas corridas ?\n",
        "\n",
        "( tiempo estimado 30 minutos, dificultad media )"
      ],
      "metadata": {
        "id": "IaVgMu4tPwyB"
      }
    }
  ]
}